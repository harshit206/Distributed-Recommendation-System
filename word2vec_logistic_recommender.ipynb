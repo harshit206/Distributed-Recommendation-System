{
 "cells": [
  {
   "cell_type": "markdown",
   "metadata": {
    "application/vnd.databricks.v1+cell": {
     "inputWidgets": {},
     "nuid": "5f8da5b0-c96f-48c7-b61a-80062f99149e",
     "showTitle": false,
     "title": ""
    }
   },
   "source": [
    "### Analytics Goal:\n",
    "Use keywords extracted from social media account activity and recommended account acceptence/rejection history of a user to recommend him/her/them other interesting social media accounts to follow on the platform.   \n",
    "### Machine Learning Algorithm:\n",
    "Used keywords to train Word2Vec model and built profile vectors for user account and candidate account. These profile vectors are then used as features to train Logistic Regression model and predict if a user will follow the candidate account or reject the recommendation."
   ]
  },
  {
   "cell_type": "code",
   "execution_count": 0,
   "metadata": {
    "application/vnd.databricks.v1+cell": {
     "inputWidgets": {},
     "nuid": "f4ec853a-e397-4e89-9338-9a2362d1818f",
     "showTitle": false,
     "title": ""
    }
   },
   "outputs": [
    {
     "data": {
      "text/html": [
       "<style scoped>\n",
       "  .ansiout {\n",
       "    display: block;\n",
       "    unicode-bidi: embed;\n",
       "    white-space: pre-wrap;\n",
       "    word-wrap: break-word;\n",
       "    word-break: break-all;\n",
       "    font-family: \"Source Code Pro\", \"Menlo\", monospace;;\n",
       "    font-size: 13px;\n",
       "    color: #555;\n",
       "    margin-left: 4px;\n",
       "    line-height: 19px;\n",
       "  }\n",
       "</style>\n",
       "<div class=\"ansiout\"></div>"
      ]
     },
     "metadata": {
      "application/vnd.databricks.v1+output": {
       "addedWidgets": {},
       "arguments": {},
       "data": "<div class=\"ansiout\"></div>",
       "datasetInfos": [],
       "metadata": {},
       "removedWidgets": [],
       "type": "html"
      }
     },
     "output_type": "display_data"
    }
   ],
   "source": [
    "from pyspark.sql import SparkSession\n",
    "from pyspark.sql.types import *\n",
    "from pyspark.sql import functions as F\n",
    "from functools import reduce\n",
    "from pyspark.ml.linalg import Vectors, VectorUDT\n",
    "from pyspark.ml.feature import VectorAssembler\n",
    "from pyspark.ml.classification import LogisticRegression\n",
    "from pyspark.ml.evaluation import MulticlassClassificationEvaluator\n",
    "from pyspark.ml.feature import Word2Vec"
   ]
  },
  {
   "cell_type": "code",
   "execution_count": 0,
   "metadata": {
    "application/vnd.databricks.v1+cell": {
     "inputWidgets": {},
     "nuid": "dfc95889-7da2-4a89-a4c5-676430af4862",
     "showTitle": false,
     "title": ""
    }
   },
   "outputs": [
    {
     "data": {
      "text/html": [
       "<style scoped>\n",
       "  .ansiout {\n",
       "    display: block;\n",
       "    unicode-bidi: embed;\n",
       "    white-space: pre-wrap;\n",
       "    word-wrap: break-word;\n",
       "    word-break: break-all;\n",
       "    font-family: \"Source Code Pro\", \"Menlo\", monospace;;\n",
       "    font-size: 13px;\n",
       "    color: #555;\n",
       "    margin-left: 4px;\n",
       "    line-height: 19px;\n",
       "  }\n",
       "</style>\n",
       "<div class=\"ansiout\"></div>"
      ]
     },
     "metadata": {
      "application/vnd.databricks.v1+output": {
       "addedWidgets": {},
       "arguments": {},
       "data": "<div class=\"ansiout\"></div>",
       "datasetInfos": [],
       "metadata": {},
       "removedWidgets": [],
       "type": "html"
      }
     },
     "output_type": "display_data"
    }
   ],
   "source": [
    "# Initiate Spark Session\n",
    "spark = SparkSession.builder \\\n",
    "            .appName(\"project\") \\\n",
    "            .config(\"spark.jars.packages\", \"org.mongodb.spark:mongo-spark-connector_2.12:3.0.1\")\\\n",
    "            .config(\"spark.network.timeout\", \"7200\")\\\n",
    "            .getOrCreate()"
   ]
  },
  {
   "cell_type": "code",
   "execution_count": 0,
   "metadata": {
    "application/vnd.databricks.v1+cell": {
     "inputWidgets": {},
     "nuid": "00ecbf37-94a6-4163-867e-32a973887eb4",
     "showTitle": false,
     "title": ""
    }
   },
   "outputs": [
    {
     "data": {
      "text/html": [
       "<style scoped>\n",
       "  .ansiout {\n",
       "    display: block;\n",
       "    unicode-bidi: embed;\n",
       "    white-space: pre-wrap;\n",
       "    word-wrap: break-word;\n",
       "    word-break: break-all;\n",
       "    font-family: \"Source Code Pro\", \"Menlo\", monospace;;\n",
       "    font-size: 13px;\n",
       "    color: #555;\n",
       "    margin-left: 4px;\n",
       "    line-height: 19px;\n",
       "  }\n",
       "</style>\n",
       "<div class=\"ansiout\"></div>"
      ]
     },
     "metadata": {
      "application/vnd.databricks.v1+output": {
       "addedWidgets": {},
       "arguments": {},
       "data": "<div class=\"ansiout\"></div>",
       "datasetInfos": [],
       "metadata": {},
       "removedWidgets": [],
       "type": "html"
      }
     },
     "output_type": "display_data"
    }
   ],
   "source": [
    "# mongodb database details and creds\n",
    "database = 'tencent'\n",
    "collection = 'recologdetail'\n",
    "user_name = 'cnayak'\n",
    "password = 'NNcLhP2SdvbiK9X'\n",
    "address = 'cluster0.mz09y.mongodb.net'\n",
    "connection_string = f\"mongodb+srv://{user_name}:{password}@{address}/{database}.{collection}\""
   ]
  },
  {
   "cell_type": "code",
   "execution_count": 0,
   "metadata": {
    "application/vnd.databricks.v1+cell": {
     "inputWidgets": {},
     "nuid": "5a7776b5-cf5f-4d3c-8dd4-975582e67c33",
     "showTitle": false,
     "title": ""
    }
   },
   "outputs": [
    {
     "data": {
      "text/html": [
       "<style scoped>\n",
       "  .ansiout {\n",
       "    display: block;\n",
       "    unicode-bidi: embed;\n",
       "    white-space: pre-wrap;\n",
       "    word-wrap: break-word;\n",
       "    word-break: break-all;\n",
       "    font-family: \"Source Code Pro\", \"Menlo\", monospace;;\n",
       "    font-size: 13px;\n",
       "    color: #555;\n",
       "    margin-left: 4px;\n",
       "    line-height: 19px;\n",
       "  }\n",
       "</style>\n",
       "<div class=\"ansiout\"></div>"
      ]
     },
     "metadata": {
      "application/vnd.databricks.v1+output": {
       "addedWidgets": {},
       "arguments": {},
       "data": "<div class=\"ansiout\"></div>",
       "datasetInfos": [],
       "metadata": {},
       "removedWidgets": [],
       "type": "html"
      }
     },
     "output_type": "display_data"
    }
   ],
   "source": [
    "# AWS s3 details\n",
    "aws_access_key = '***'\n",
    "aws_secret_key = '***'\n",
    "spark._jsc.hadoopConfiguration().set('spark.jars.packages', 'org.apache.hadoop:hadoop-aws:3.3.1')\n",
    "#spark._jsc.hadoopConfiguration().set('spark.jars.packages', 'org.mongodb.spark:mongo-spark-connector_2.12:3.0.1') \n",
    "spark._jsc.hadoopConfiguration().set(\"spark.hadoop.fs.s3a.impl\", \"org.apache.hadoop.fs.s3a.S3AFileSystem\")\n",
    "spark._jsc.hadoopConfiguration().set(\"fs.s3a.access.key\", aws_access_key)\n",
    "spark._jsc.hadoopConfiguration().set(\"fs.s3a.secret.key\", aws_secret_key)"
   ]
  },
  {
   "cell_type": "code",
   "execution_count": 0,
   "metadata": {
    "application/vnd.databricks.v1+cell": {
     "inputWidgets": {},
     "nuid": "bb1d0fec-ea90-4d28-a4c7-6013a0aa8b42",
     "showTitle": false,
     "title": ""
    }
   },
   "outputs": [
    {
     "data": {
      "text/html": [
       "<style scoped>\n",
       "  .ansiout {\n",
       "    display: block;\n",
       "    unicode-bidi: embed;\n",
       "    white-space: pre-wrap;\n",
       "    word-wrap: break-word;\n",
       "    word-break: break-all;\n",
       "    font-family: \"Source Code Pro\", \"Menlo\", monospace;;\n",
       "    font-size: 13px;\n",
       "    color: #555;\n",
       "    margin-left: 4px;\n",
       "    line-height: 19px;\n",
       "  }\n",
       "</style>\n",
       "<div class=\"ansiout\"></div>"
      ]
     },
     "metadata": {
      "application/vnd.databricks.v1+output": {
       "addedWidgets": {},
       "arguments": {},
       "data": "<div class=\"ansiout\"></div>",
       "datasetInfos": [],
       "metadata": {},
       "removedWidgets": [],
       "type": "html"
      }
     },
     "output_type": "display_data"
    }
   ],
   "source": [
    "spark._jsc.hadoopConfiguration().set('spark.network.timeout','7200s')\n",
    "spark._jsc.hadoopConfiguration().set('spark.executor.heartbeatInterval','1200s')"
   ]
  },
  {
   "cell_type": "markdown",
   "metadata": {},
   "source": [
    "#### Load data from mongodb\n"
   ]
  },
  {
   "cell_type": "code",
   "execution_count": 0,
   "metadata": {
    "application/vnd.databricks.v1+cell": {
     "inputWidgets": {},
     "nuid": "34c638cf-4528-488a-99e1-392519c0f392",
     "showTitle": false,
     "title": ""
    }
   },
   "outputs": [
    {
     "data": {
      "text/html": [
       "<style scoped>\n",
       "  .ansiout {\n",
       "    display: block;\n",
       "    unicode-bidi: embed;\n",
       "    white-space: pre-wrap;\n",
       "    word-wrap: break-word;\n",
       "    word-break: break-all;\n",
       "    font-family: \"Source Code Pro\", \"Menlo\", monospace;;\n",
       "    font-size: 13px;\n",
       "    color: #555;\n",
       "    margin-left: 4px;\n",
       "    line-height: 19px;\n",
       "  }\n",
       "</style>\n",
       "<div class=\"ansiout\"></div>"
      ]
     },
     "metadata": {
      "application/vnd.databricks.v1+output": {
       "addedWidgets": {},
       "arguments": {},
       "data": "<div class=\"ansiout\"></div>",
       "datasetInfos": [],
       "metadata": {},
       "removedWidgets": [],
       "type": "html"
      }
     },
     "output_type": "display_data"
    }
   ],
   "source": [
    "df = spark.read.format('mongo').option(\"uri\",connection_string).load()"
   ]
  },
  {
   "cell_type": "code",
   "execution_count": 0,
   "metadata": {
    "application/vnd.databricks.v1+cell": {
     "inputWidgets": {},
     "nuid": "a2b6cb01-b74d-42e9-8fb2-7365c19725e9",
     "showTitle": false,
     "title": ""
    }
   },
   "outputs": [
    {
     "data": {
      "text/html": [
       "<style scoped>\n",
       "  .ansiout {\n",
       "    display: block;\n",
       "    unicode-bidi: embed;\n",
       "    white-space: pre-wrap;\n",
       "    word-wrap: break-word;\n",
       "    word-break: break-all;\n",
       "    font-family: \"Source Code Pro\", \"Menlo\", monospace;;\n",
       "    font-size: 13px;\n",
       "    color: #555;\n",
       "    margin-left: 4px;\n",
       "    line-height: 19px;\n",
       "  }\n",
       "</style>\n",
       "<div class=\"ansiout\"></div>"
      ]
     },
     "metadata": {
      "application/vnd.databricks.v1+output": {
       "addedWidgets": {},
       "arguments": {},
       "data": "<div class=\"ansiout\"></div>",
       "datasetInfos": [],
       "metadata": {},
       "removedWidgets": [],
       "type": "html"
      }
     },
     "output_type": "display_data"
    }
   ],
   "source": [
    "# Select keywords list for candidate accounts\n",
    "item_kws  = df.select('Keywords_list').distinct()"
   ]
  },
  {
   "cell_type": "code",
   "execution_count": 0,
   "metadata": {
    "application/vnd.databricks.v1+cell": {
     "inputWidgets": {},
     "nuid": "4f54fd13-aaca-4045-adee-c05c9a7cfdd9",
     "showTitle": false,
     "title": ""
    }
   },
   "outputs": [
    {
     "data": {
      "text/html": [
       "<style scoped>\n",
       "  .ansiout {\n",
       "    display: block;\n",
       "    unicode-bidi: embed;\n",
       "    white-space: pre-wrap;\n",
       "    word-wrap: break-word;\n",
       "    word-break: break-all;\n",
       "    font-family: \"Source Code Pro\", \"Menlo\", monospace;;\n",
       "    font-size: 13px;\n",
       "    color: #555;\n",
       "    margin-left: 4px;\n",
       "    line-height: 19px;\n",
       "  }\n",
       "</style>\n",
       "<div class=\"ansiout\"></div>"
      ]
     },
     "metadata": {
      "application/vnd.databricks.v1+output": {
       "addedWidgets": {},
       "arguments": {},
       "data": "<div class=\"ansiout\"></div>",
       "datasetInfos": [],
       "metadata": {},
       "removedWidgets": [],
       "type": "html"
      }
     },
     "output_type": "display_data"
    }
   ],
   "source": [
    " # In case there are non-integer type to be converted.\n",
    "def IntegerSafe(value):\n",
    "    try:\n",
    "        return int(value)\n",
    "    except:\n",
    "        return None"
   ]
  },
  {
   "cell_type": "code",
   "execution_count": 0,
   "metadata": {
    "application/vnd.databricks.v1+cell": {
     "inputWidgets": {},
     "nuid": "aaa7a825-9d77-4c66-a5f4-62db48a412c4",
     "showTitle": false,
     "title": ""
    }
   },
   "outputs": [
    {
     "data": {
      "text/html": [
       "<style scoped>\n",
       "  .ansiout {\n",
       "    display: block;\n",
       "    unicode-bidi: embed;\n",
       "    white-space: pre-wrap;\n",
       "    word-wrap: break-word;\n",
       "    word-break: break-all;\n",
       "    font-family: \"Source Code Pro\", \"Menlo\", monospace;;\n",
       "    font-size: 13px;\n",
       "    color: #555;\n",
       "    margin-left: 4px;\n",
       "    line-height: 19px;\n",
       "  }\n",
       "</style>\n",
       "<div class=\"ansiout\"></div>"
      ]
     },
     "metadata": {
      "application/vnd.databricks.v1+output": {
       "addedWidgets": {},
       "arguments": {},
       "data": "<div class=\"ansiout\"></div>",
       "datasetInfos": [],
       "metadata": {},
       "removedWidgets": [],
       "type": "html"
      }
     },
     "output_type": "display_data"
    }
   ],
   "source": [
    "# define schema for user keywords file\n",
    "user_kw_schema = StructType([StructField(\"UserId\", IntegerType(), False),\\\n",
    "    StructField(\"Keywords_weights\", StringType(), True)])"
   ]
  },
  {
   "cell_type": "code",
   "execution_count": 0,
   "metadata": {
    "application/vnd.databricks.v1+cell": {
     "inputWidgets": {},
     "nuid": "b5a69836-d81d-4891-9d04-73505d6eec83",
     "showTitle": false,
     "title": ""
    }
   },
   "outputs": [
    {
     "data": {
      "text/html": [
       "<style scoped>\n",
       "  .ansiout {\n",
       "    display: block;\n",
       "    unicode-bidi: embed;\n",
       "    white-space: pre-wrap;\n",
       "    word-wrap: break-word;\n",
       "    word-break: break-all;\n",
       "    font-family: \"Source Code Pro\", \"Menlo\", monospace;;\n",
       "    font-size: 13px;\n",
       "    color: #555;\n",
       "    margin-left: 4px;\n",
       "    line-height: 19px;\n",
       "  }\n",
       "</style>\n",
       "<div class=\"ansiout\"></div>"
      ]
     },
     "metadata": {
      "application/vnd.databricks.v1+output": {
       "addedWidgets": {},
       "arguments": {},
       "data": "<div class=\"ansiout\"></div>",
       "datasetInfos": [],
       "metadata": {},
       "removedWidgets": [],
       "type": "html"
      }
     },
     "output_type": "display_data"
    }
   ],
   "source": [
    "# Load file containing keywords extracted from user social media activity like tweets, retweets, comments\n",
    "user_kw_rdd = sc.textFile('s3://msds697-group18-2022/track1/user_key_word.txt')\\\n",
    "                .map(lambda x: x.split('\\t'))\\\n",
    "                .map(lambda x : (IntegerSafe(x[0]), x[1]))"
   ]
  },
  {
   "cell_type": "code",
   "execution_count": 0,
   "metadata": {
    "application/vnd.databricks.v1+cell": {
     "inputWidgets": {},
     "nuid": "833ee9a9-b7cb-49c4-9402-c0b113bee70a",
     "showTitle": false,
     "title": ""
    }
   },
   "outputs": [
    {
     "data": {
      "text/html": [
       "<style scoped>\n",
       "  .ansiout {\n",
       "    display: block;\n",
       "    unicode-bidi: embed;\n",
       "    white-space: pre-wrap;\n",
       "    word-wrap: break-word;\n",
       "    word-break: break-all;\n",
       "    font-family: \"Source Code Pro\", \"Menlo\", monospace;;\n",
       "    font-size: 13px;\n",
       "    color: #555;\n",
       "    margin-left: 4px;\n",
       "    line-height: 19px;\n",
       "  }\n",
       "</style>\n",
       "<div class=\"ansiout\">root\n",
       "-- UserId: integer (nullable = false)\n",
       "-- Keywords_weights: string (nullable = true)\n",
       "\n",
       "</div>"
      ]
     },
     "metadata": {
      "application/vnd.databricks.v1+output": {
       "addedWidgets": {},
       "arguments": {},
       "data": "<div class=\"ansiout\">root\n |-- UserId: integer (nullable = false)\n |-- Keywords_weights: string (nullable = true)\n\n</div>",
       "datasetInfos": [],
       "metadata": {},
       "removedWidgets": [],
       "type": "html"
      }
     },
     "output_type": "display_data"
    }
   ],
   "source": [
    "# convert RDD to dataframe\n",
    "user_kw_df = spark.createDataFrame(user_kw_rdd, user_kw_schema)\n",
    "user_kw_df.printSchema()"
   ]
  },
  {
   "cell_type": "code",
   "execution_count": 0,
   "metadata": {
    "application/vnd.databricks.v1+cell": {
     "inputWidgets": {},
     "nuid": "947361e7-b409-4973-be37-de0d17c4028f",
     "showTitle": false,
     "title": ""
    }
   },
   "outputs": [
    {
     "data": {
      "text/html": [
       "<style scoped>\n",
       "  .ansiout {\n",
       "    display: block;\n",
       "    unicode-bidi: embed;\n",
       "    white-space: pre-wrap;\n",
       "    word-wrap: break-word;\n",
       "    word-break: break-all;\n",
       "    font-family: \"Source Code Pro\", \"Menlo\", monospace;;\n",
       "    font-size: 13px;\n",
       "    color: #555;\n",
       "    margin-left: 4px;\n",
       "    line-height: 19px;\n",
       "  }\n",
       "</style>\n",
       "<div class=\"ansiout\">+-------+--------------------+\n",
       " UserId|    Keywords_weights|\n",
       "+-------+--------------------+\n",
       "1000000|183:0.6673;2:0.35...|\n",
       "1000001|              92:1.0|\n",
       "1000002|             112:1.0|\n",
       "1000003|154435:0.746;30:0...|\n",
       "1000004|             118:1.0|\n",
       "1000005|157:0.484;25:0.43...|\n",
       "1000006|277:0.7815;1980:0...|\n",
       "1000007|4069:0.6678;2557:...|\n",
       "1000008|16:0.7164;154:0.3...|\n",
       "1000009|               2:1.0|\n",
       " 100001|1921:0.3853;25231...|\n",
       "1000010|25:0.4024;26:0.35...|\n",
       "1000011|               1:1.0|\n",
       "1000012|84:0.6406;2:0.381...|\n",
       "1000013|573:0.8168;1323:0...|\n",
       "1000014|2:0.673;17:0.3486...|\n",
       "1000015|79561:0.3296;55:0...|\n",
       "1000016|              12:1.0|\n",
       "1000017|           17704:1.0|\n",
       "1000018|              72:1.0|\n",
       "+-------+--------------------+\n",
       "only showing top 20 rows\n",
       "\n",
       "</div>"
      ]
     },
     "metadata": {
      "application/vnd.databricks.v1+output": {
       "addedWidgets": {},
       "arguments": {},
       "data": "<div class=\"ansiout\">+-------+--------------------+\n| UserId|    Keywords_weights|\n+-------+--------------------+\n|1000000|183:0.6673;2:0.35...|\n|1000001|              92:1.0|\n|1000002|             112:1.0|\n|1000003|154435:0.746;30:0...|\n|1000004|             118:1.0|\n|1000005|157:0.484;25:0.43...|\n|1000006|277:0.7815;1980:0...|\n|1000007|4069:0.6678;2557:...|\n|1000008|16:0.7164;154:0.3...|\n|1000009|               2:1.0|\n| 100001|1921:0.3853;25231...|\n|1000010|25:0.4024;26:0.35...|\n|1000011|               1:1.0|\n|1000012|84:0.6406;2:0.381...|\n|1000013|573:0.8168;1323:0...|\n|1000014|2:0.673;17:0.3486...|\n|1000015|79561:0.3296;55:0...|\n|1000016|              12:1.0|\n|1000017|           17704:1.0|\n|1000018|              72:1.0|\n+-------+--------------------+\nonly showing top 20 rows\n\n</div>",
       "datasetInfos": [],
       "metadata": {},
       "removedWidgets": [],
       "type": "html"
      }
     },
     "output_type": "display_data"
    }
   ],
   "source": [
    "user_kw_df.show()"
   ]
  },
  {
   "cell_type": "code",
   "execution_count": 0,
   "metadata": {
    "application/vnd.databricks.v1+cell": {
     "inputWidgets": {},
     "nuid": "3f266012-a648-4ebe-bd38-a821f312cf95",
     "showTitle": false,
     "title": ""
    }
   },
   "outputs": [
    {
     "data": {
      "text/html": [
       "<style scoped>\n",
       "  .ansiout {\n",
       "    display: block;\n",
       "    unicode-bidi: embed;\n",
       "    white-space: pre-wrap;\n",
       "    word-wrap: break-word;\n",
       "    word-break: break-all;\n",
       "    font-family: \"Source Code Pro\", \"Menlo\", monospace;;\n",
       "    font-size: 13px;\n",
       "    color: #555;\n",
       "    margin-left: 4px;\n",
       "    line-height: 19px;\n",
       "  }\n",
       "</style>\n",
       "<div class=\"ansiout\"></div>"
      ]
     },
     "metadata": {
      "application/vnd.databricks.v1+output": {
       "addedWidgets": {},
       "arguments": {},
       "data": "<div class=\"ansiout\"></div>",
       "datasetInfos": [],
       "metadata": {},
       "removedWidgets": [],
       "type": "html"
      }
     },
     "output_type": "display_data"
    }
   ],
   "source": [
    "# get list of keywords for user account\n",
    "def get_keywords(keywords):\n",
    "    \n",
    "    '''\n",
    "    convert string Keywords weights in format \"183:0.6673;2:0.35\" \n",
    "    to  Arrays of keywords --> [183,2]\n",
    "    '''\n",
    "    kw_ws = [ x for x in keywords.split(';') ]\n",
    "    kws = [ IntegerSafe(x.split(\":\")[0]) for x in kw_ws]\n",
    "    return kws"
   ]
  },
  {
   "cell_type": "code",
   "execution_count": 0,
   "metadata": {
    "application/vnd.databricks.v1+cell": {
     "inputWidgets": {},
     "nuid": "1d171b7c-1932-4509-a7ee-5684f9134200",
     "showTitle": false,
     "title": ""
    }
   },
   "outputs": [
    {
     "data": {
      "text/html": [
       "<style scoped>\n",
       "  .ansiout {\n",
       "    display: block;\n",
       "    unicode-bidi: embed;\n",
       "    white-space: pre-wrap;\n",
       "    word-wrap: break-word;\n",
       "    word-break: break-all;\n",
       "    font-family: \"Source Code Pro\", \"Menlo\", monospace;;\n",
       "    font-size: 13px;\n",
       "    color: #555;\n",
       "    margin-left: 4px;\n",
       "    line-height: 19px;\n",
       "  }\n",
       "</style>\n",
       "<div class=\"ansiout\"></div>"
      ]
     },
     "metadata": {
      "application/vnd.databricks.v1+output": {
       "addedWidgets": {},
       "arguments": {},
       "data": "<div class=\"ansiout\"></div>",
       "datasetInfos": [],
       "metadata": {},
       "removedWidgets": [],
       "type": "html"
      }
     },
     "output_type": "display_data"
    }
   ],
   "source": [
    "# Register function for unwrapping of keywords into Array as UDF\n",
    "get_kws = udf(get_keywords, ArrayType(IntegerType()))"
   ]
  },
  {
   "cell_type": "code",
   "execution_count": 0,
   "metadata": {
    "application/vnd.databricks.v1+cell": {
     "inputWidgets": {},
     "nuid": "9ec2d8bd-e0f7-4b3b-8f3e-c78f8827fc7b",
     "showTitle": false,
     "title": ""
    }
   },
   "outputs": [
    {
     "data": {
      "text/html": [
       "<style scoped>\n",
       "  .ansiout {\n",
       "    display: block;\n",
       "    unicode-bidi: embed;\n",
       "    white-space: pre-wrap;\n",
       "    word-wrap: break-word;\n",
       "    word-break: break-all;\n",
       "    font-family: \"Source Code Pro\", \"Menlo\", monospace;;\n",
       "    font-size: 13px;\n",
       "    color: #555;\n",
       "    margin-left: 4px;\n",
       "    line-height: 19px;\n",
       "  }\n",
       "</style>\n",
       "<div class=\"ansiout\"></div>"
      ]
     },
     "metadata": {
      "application/vnd.databricks.v1+output": {
       "addedWidgets": {},
       "arguments": {},
       "data": "<div class=\"ansiout\"></div>",
       "datasetInfos": [],
       "metadata": {},
       "removedWidgets": [],
       "type": "html"
      }
     },
     "output_type": "display_data"
    }
   ],
   "source": [
    "user_kw_df = user_kw_df.withColumn('Keywords_list', get_kws('Keywords_weights'))"
   ]
  },
  {
   "cell_type": "code",
   "execution_count": 0,
   "metadata": {
    "application/vnd.databricks.v1+cell": {
     "inputWidgets": {},
     "nuid": "b9758d57-2698-459a-b556-3a962a80f758",
     "showTitle": false,
     "title": ""
    }
   },
   "outputs": [
    {
     "data": {
      "text/html": [
       "<style scoped>\n",
       "  .ansiout {\n",
       "    display: block;\n",
       "    unicode-bidi: embed;\n",
       "    white-space: pre-wrap;\n",
       "    word-wrap: break-word;\n",
       "    word-break: break-all;\n",
       "    font-family: \"Source Code Pro\", \"Menlo\", monospace;;\n",
       "    font-size: 13px;\n",
       "    color: #555;\n",
       "    margin-left: 4px;\n",
       "    line-height: 19px;\n",
       "  }\n",
       "</style>\n",
       "<div class=\"ansiout\">+-------+--------------------+--------------------+\n",
       " UserId|    Keywords_weights|       Keywords_list|\n",
       "+-------+--------------------+--------------------+\n",
       "1000000|183:0.6673;2:0.35...|[183, 2, 359, 363...|\n",
       "1000001|              92:1.0|                [92]|\n",
       "1000002|             112:1.0|               [112]|\n",
       "1000003|154435:0.746;30:0...|[154435, 30, 220,...|\n",
       "1000004|             118:1.0|               [118]|\n",
       "1000005|157:0.484;25:0.43...|[157, 25, 198, 18...|\n",
       "1000006|277:0.7815;1980:0...|[277, 1980, 146, ...|\n",
       "1000007|4069:0.6678;2557:...|   [4069, 2557, 137]|\n",
       "1000008|16:0.7164;154:0.3...|[16, 154, 164, 24...|\n",
       "1000009|               2:1.0|                 [2]|\n",
       " 100001|1921:0.3853;25231...|[1921, 25231, 718...|\n",
       "1000010|25:0.4024;26:0.35...|[25, 26, 31, 71, ...|\n",
       "1000011|               1:1.0|                 [1]|\n",
       "1000012|84:0.6406;2:0.381...|[84, 2, 10, 7307,...|\n",
       "1000013|573:0.8168;1323:0...|     [573, 1323, 14]|\n",
       "1000014|2:0.673;17:0.3486...|[2, 17, 58, 4, 6,...|\n",
       "1000015|79561:0.3296;55:0...|[79561, 55, 61, 2...|\n",
       "1000016|              12:1.0|                [12]|\n",
       "1000017|           17704:1.0|             [17704]|\n",
       "1000018|              72:1.0|                [72]|\n",
       "+-------+--------------------+--------------------+\n",
       "only showing top 20 rows\n",
       "\n",
       "</div>"
      ]
     },
     "metadata": {
      "application/vnd.databricks.v1+output": {
       "addedWidgets": {},
       "arguments": {},
       "data": "<div class=\"ansiout\">+-------+--------------------+--------------------+\n| UserId|    Keywords_weights|       Keywords_list|\n+-------+--------------------+--------------------+\n|1000000|183:0.6673;2:0.35...|[183, 2, 359, 363...|\n|1000001|              92:1.0|                [92]|\n|1000002|             112:1.0|               [112]|\n|1000003|154435:0.746;30:0...|[154435, 30, 220,...|\n|1000004|             118:1.0|               [118]|\n|1000005|157:0.484;25:0.43...|[157, 25, 198, 18...|\n|1000006|277:0.7815;1980:0...|[277, 1980, 146, ...|\n|1000007|4069:0.6678;2557:...|   [4069, 2557, 137]|\n|1000008|16:0.7164;154:0.3...|[16, 154, 164, 24...|\n|1000009|               2:1.0|                 [2]|\n| 100001|1921:0.3853;25231...|[1921, 25231, 718...|\n|1000010|25:0.4024;26:0.35...|[25, 26, 31, 71, ...|\n|1000011|               1:1.0|                 [1]|\n|1000012|84:0.6406;2:0.381...|[84, 2, 10, 7307,...|\n|1000013|573:0.8168;1323:0...|     [573, 1323, 14]|\n|1000014|2:0.673;17:0.3486...|[2, 17, 58, 4, 6,...|\n|1000015|79561:0.3296;55:0...|[79561, 55, 61, 2...|\n|1000016|              12:1.0|                [12]|\n|1000017|           17704:1.0|             [17704]|\n|1000018|              72:1.0|                [72]|\n+-------+--------------------+--------------------+\nonly showing top 20 rows\n\n</div>",
       "datasetInfos": [],
       "metadata": {},
       "removedWidgets": [],
       "type": "html"
      }
     },
     "output_type": "display_data"
    }
   ],
   "source": [
    "user_kw_df.show()"
   ]
  },
  {
   "cell_type": "code",
   "execution_count": 0,
   "metadata": {
    "application/vnd.databricks.v1+cell": {
     "inputWidgets": {},
     "nuid": "efb93cbe-ee5e-4678-a143-96838234f19a",
     "showTitle": false,
     "title": ""
    }
   },
   "outputs": [
    {
     "data": {
      "text/html": [
       "<style scoped>\n",
       "  .ansiout {\n",
       "    display: block;\n",
       "    unicode-bidi: embed;\n",
       "    white-space: pre-wrap;\n",
       "    word-wrap: break-word;\n",
       "    word-break: break-all;\n",
       "    font-family: \"Source Code Pro\", \"Menlo\", monospace;;\n",
       "    font-size: 13px;\n",
       "    color: #555;\n",
       "    margin-left: 4px;\n",
       "    line-height: 19px;\n",
       "  }\n",
       "</style>\n",
       "<div class=\"ansiout\"></div>"
      ]
     },
     "metadata": {
      "application/vnd.databricks.v1+output": {
       "addedWidgets": {},
       "arguments": {},
       "data": "<div class=\"ansiout\"></div>",
       "datasetInfos": [],
       "metadata": {},
       "removedWidgets": [],
       "type": "html"
      }
     },
     "output_type": "display_data"
    }
   ],
   "source": [
    "# combine user account keywords and item account keywords to train the Word2vec \n",
    "keywords_all = item_kws.unionByName(user_kw_df.select('Keywords_list'))"
   ]
  },
  {
   "cell_type": "code",
   "execution_count": 0,
   "metadata": {
    "application/vnd.databricks.v1+cell": {
     "inputWidgets": {},
     "nuid": "5b70e10d-8955-4dd3-a720-7292e430739c",
     "showTitle": false,
     "title": ""
    }
   },
   "outputs": [
    {
     "data": {
      "text/html": [
       "<style scoped>\n",
       "  .ansiout {\n",
       "    display: block;\n",
       "    unicode-bidi: embed;\n",
       "    white-space: pre-wrap;\n",
       "    word-wrap: break-word;\n",
       "    word-break: break-all;\n",
       "    font-family: \"Source Code Pro\", \"Menlo\", monospace;;\n",
       "    font-size: 13px;\n",
       "    color: #555;\n",
       "    margin-left: 4px;\n",
       "    line-height: 19px;\n",
       "  }\n",
       "</style>\n",
       "<div class=\"ansiout\">Out[22]: 2325602</div>"
      ]
     },
     "metadata": {
      "application/vnd.databricks.v1+output": {
       "addedWidgets": {},
       "arguments": {},
       "data": "<div class=\"ansiout\">Out[22]: 2325602</div>",
       "datasetInfos": [],
       "metadata": {},
       "removedWidgets": [],
       "type": "html"
      }
     },
     "output_type": "display_data"
    }
   ],
   "source": [
    "keywords_all.count()"
   ]
  },
  {
   "cell_type": "code",
   "execution_count": 0,
   "metadata": {
    "application/vnd.databricks.v1+cell": {
     "inputWidgets": {},
     "nuid": "876cba2c-3687-419c-bd5c-22596114d8aa",
     "showTitle": false,
     "title": ""
    }
   },
   "outputs": [
    {
     "data": {
      "text/html": [
       "<style scoped>\n",
       "  .ansiout {\n",
       "    display: block;\n",
       "    unicode-bidi: embed;\n",
       "    white-space: pre-wrap;\n",
       "    word-wrap: break-word;\n",
       "    word-break: break-all;\n",
       "    font-family: \"Source Code Pro\", \"Menlo\", monospace;;\n",
       "    font-size: 13px;\n",
       "    color: #555;\n",
       "    margin-left: 4px;\n",
       "    line-height: 19px;\n",
       "  }\n",
       "</style>\n",
       "<div class=\"ansiout\"></div>"
      ]
     },
     "metadata": {
      "application/vnd.databricks.v1+output": {
       "addedWidgets": {},
       "arguments": {},
       "data": "<div class=\"ansiout\"></div>",
       "datasetInfos": [],
       "metadata": {},
       "removedWidgets": [],
       "type": "html"
      }
     },
     "output_type": "display_data"
    }
   ],
   "source": [
    "# cast encoded keywords into string. requirement of Word2Vec model\n",
    "def cast_keywords(keywords_list):\n",
    "    return [str(x) for x in keywords_list]"
   ]
  },
  {
   "cell_type": "code",
   "execution_count": 0,
   "metadata": {
    "application/vnd.databricks.v1+cell": {
     "inputWidgets": {},
     "nuid": "5cb8c34d-d77b-40c9-9e17-67e272fb7153",
     "showTitle": false,
     "title": ""
    }
   },
   "outputs": [
    {
     "data": {
      "text/html": [
       "<style scoped>\n",
       "  .ansiout {\n",
       "    display: block;\n",
       "    unicode-bidi: embed;\n",
       "    white-space: pre-wrap;\n",
       "    word-wrap: break-word;\n",
       "    word-break: break-all;\n",
       "    font-family: \"Source Code Pro\", \"Menlo\", monospace;;\n",
       "    font-size: 13px;\n",
       "    color: #555;\n",
       "    margin-left: 4px;\n",
       "    line-height: 19px;\n",
       "  }\n",
       "</style>\n",
       "<div class=\"ansiout\"></div>"
      ]
     },
     "metadata": {
      "application/vnd.databricks.v1+output": {
       "addedWidgets": {},
       "arguments": {},
       "data": "<div class=\"ansiout\"></div>",
       "datasetInfos": [],
       "metadata": {},
       "removedWidgets": [],
       "type": "html"
      }
     },
     "output_type": "display_data"
    }
   ],
   "source": [
    "# Register function for casting keywords to string\n",
    "cast_kws = udf(cast_keywords, ArrayType(StringType()))"
   ]
  },
  {
   "cell_type": "code",
   "execution_count": 0,
   "metadata": {
    "application/vnd.databricks.v1+cell": {
     "inputWidgets": {},
     "nuid": "2f006e18-37b9-4d05-a34d-dcc859bd91f4",
     "showTitle": false,
     "title": ""
    }
   },
   "outputs": [
    {
     "data": {
      "text/html": [
       "<style scoped>\n",
       "  .ansiout {\n",
       "    display: block;\n",
       "    unicode-bidi: embed;\n",
       "    white-space: pre-wrap;\n",
       "    word-wrap: break-word;\n",
       "    word-break: break-all;\n",
       "    font-family: \"Source Code Pro\", \"Menlo\", monospace;;\n",
       "    font-size: 13px;\n",
       "    color: #555;\n",
       "    margin-left: 4px;\n",
       "    line-height: 19px;\n",
       "  }\n",
       "</style>\n",
       "<div class=\"ansiout\"></div>"
      ]
     },
     "metadata": {
      "application/vnd.databricks.v1+output": {
       "addedWidgets": {},
       "arguments": {},
       "data": "<div class=\"ansiout\"></div>",
       "datasetInfos": [],
       "metadata": {},
       "removedWidgets": [],
       "type": "html"
      }
     },
     "output_type": "display_data"
    }
   ],
   "source": [
    "keywords_all = keywords_all.withColumn('Keywords', cast_kws('Keywords_list'))"
   ]
  },
  {
   "cell_type": "code",
   "execution_count": 0,
   "metadata": {
    "application/vnd.databricks.v1+cell": {
     "inputWidgets": {},
     "nuid": "ce647e89-19ed-45bb-8071-e7cc3075feb4",
     "showTitle": false,
     "title": ""
    },
    "scrolled": true
   },
   "outputs": [
    {
     "data": {
      "text/html": [
       "<style scoped>\n",
       "  .ansiout {\n",
       "    display: block;\n",
       "    unicode-bidi: embed;\n",
       "    white-space: pre-wrap;\n",
       "    word-wrap: break-word;\n",
       "    word-break: break-all;\n",
       "    font-family: \"Source Code Pro\", \"Menlo\", monospace;;\n",
       "    font-size: 13px;\n",
       "    color: #555;\n",
       "    margin-left: 4px;\n",
       "    line-height: 19px;\n",
       "  }\n",
       "</style>\n",
       "<div class=\"ansiout\">+--------------------+--------------------+\n",
       "       Keywords_list|            Keywords|\n",
       "+--------------------+--------------------+\n",
       "[134231, 673391, ...|[134231, 673391, ...|\n",
       "[254337, 334106, ...|[254337, 334106, ...|\n",
       "[39017, 3971, 515...|[39017, 3971, 515...|\n",
       "[355993, 297361, ...|[355993, 297361, ...|\n",
       "[6359, 19954, 229...|[6359, 19954, 229...|\n",
       "[6359, 61926, 316...|[6359, 61926, 316...|\n",
       "[6359, 295444, 24...|[6359, 295444, 24...|\n",
       "[12860, 15298, 99...|[12860, 15298, 99...|\n",
       "[594764, 514049, ...|[594764, 514049, ...|\n",
       "[100947, 360562, ...|[100947, 360562, ...|\n",
       "[6359, 10697, 618...|[6359, 10697, 618...|\n",
       "[99, 448344, 317,...|[99, 448344, 317,...|\n",
       "[254337, 195099, ...|[254337, 195099, ...|\n",
       "[48583, 602480, 3...|[48583, 602480, 3...|\n",
       "[619870, 242039, ...|[619870, 242039, ...|\n",
       "[555948, 638452, ...|[555948, 638452, ...|\n",
       "[3697, 267001, 47...|[3697, 267001, 47...|\n",
       "[675933, 524696, ...|[675933, 524696, ...|\n",
       "[6359, 80509, 320...|[6359, 80509, 320...|\n",
       "[6359, 12152, 618...|[6359, 12152, 618...|\n",
       "+--------------------+--------------------+\n",
       "only showing top 20 rows\n",
       "\n",
       "</div>"
      ]
     },
     "metadata": {
      "application/vnd.databricks.v1+output": {
       "addedWidgets": {},
       "arguments": {},
       "data": "<div class=\"ansiout\">+--------------------+--------------------+\n|       Keywords_list|            Keywords|\n+--------------------+--------------------+\n|[134231, 673391, ...|[134231, 673391, ...|\n|[254337, 334106, ...|[254337, 334106, ...|\n|[39017, 3971, 515...|[39017, 3971, 515...|\n|[355993, 297361, ...|[355993, 297361, ...|\n|[6359, 19954, 229...|[6359, 19954, 229...|\n|[6359, 61926, 316...|[6359, 61926, 316...|\n|[6359, 295444, 24...|[6359, 295444, 24...|\n|[12860, 15298, 99...|[12860, 15298, 99...|\n|[594764, 514049, ...|[594764, 514049, ...|\n|[100947, 360562, ...|[100947, 360562, ...|\n|[6359, 10697, 618...|[6359, 10697, 618...|\n|[99, 448344, 317,...|[99, 448344, 317,...|\n|[254337, 195099, ...|[254337, 195099, ...|\n|[48583, 602480, 3...|[48583, 602480, 3...|\n|[619870, 242039, ...|[619870, 242039, ...|\n|[555948, 638452, ...|[555948, 638452, ...|\n|[3697, 267001, 47...|[3697, 267001, 47...|\n|[675933, 524696, ...|[675933, 524696, ...|\n|[6359, 80509, 320...|[6359, 80509, 320...|\n|[6359, 12152, 618...|[6359, 12152, 618...|\n+--------------------+--------------------+\nonly showing top 20 rows\n\n</div>",
       "datasetInfos": [],
       "metadata": {},
       "removedWidgets": [],
       "type": "html"
      }
     },
     "output_type": "display_data"
    }
   ],
   "source": [
    "keywords_all.show()"
   ]
  },
  {
   "cell_type": "markdown",
   "metadata": {},
   "source": [
    "#### initialize Word2Vec model. embedding size is set to 5\n"
   ]
  },
  {
   "cell_type": "code",
   "execution_count": 0,
   "metadata": {
    "application/vnd.databricks.v1+cell": {
     "inputWidgets": {},
     "nuid": "f87ec05a-ce93-4295-a1b0-72a8b0ccd2b9",
     "showTitle": false,
     "title": ""
    }
   },
   "outputs": [
    {
     "data": {
      "text/html": [
       "<style scoped>\n",
       "  .ansiout {\n",
       "    display: block;\n",
       "    unicode-bidi: embed;\n",
       "    white-space: pre-wrap;\n",
       "    word-wrap: break-word;\n",
       "    word-break: break-all;\n",
       "    font-family: \"Source Code Pro\", \"Menlo\", monospace;;\n",
       "    font-size: 13px;\n",
       "    color: #555;\n",
       "    margin-left: 4px;\n",
       "    line-height: 19px;\n",
       "  }\n",
       "</style>\n",
       "<div class=\"ansiout\"></div>"
      ]
     },
     "metadata": {
      "application/vnd.databricks.v1+output": {
       "addedWidgets": {},
       "arguments": {},
       "data": "<div class=\"ansiout\"></div>",
       "datasetInfos": [],
       "metadata": {},
       "removedWidgets": [],
       "type": "html"
      }
     },
     "output_type": "display_data"
    }
   ],
   "source": [
    "word2Vec = Word2Vec(vectorSize=5, seed=42, inputCol=\"Keywords\", outputCol=\"model\")"
   ]
  },
  {
   "cell_type": "code",
   "execution_count": 0,
   "metadata": {
    "application/vnd.databricks.v1+cell": {
     "inputWidgets": {},
     "nuid": "4314674e-bb19-4cab-9e2d-27e2a0696cbf",
     "showTitle": false,
     "title": ""
    }
   },
   "outputs": [
    {
     "data": {
      "text/html": [
       "<style scoped>\n",
       "  .ansiout {\n",
       "    display: block;\n",
       "    unicode-bidi: embed;\n",
       "    white-space: pre-wrap;\n",
       "    word-wrap: break-word;\n",
       "    word-break: break-all;\n",
       "    font-family: \"Source Code Pro\", \"Menlo\", monospace;;\n",
       "    font-size: 13px;\n",
       "    color: #555;\n",
       "    margin-left: 4px;\n",
       "    line-height: 19px;\n",
       "  }\n",
       "</style>\n",
       "<div class=\"ansiout\"></div>"
      ]
     },
     "metadata": {
      "application/vnd.databricks.v1+output": {
       "addedWidgets": {},
       "arguments": {},
       "data": "<div class=\"ansiout\"></div>",
       "datasetInfos": [],
       "metadata": {},
       "removedWidgets": [],
       "type": "html"
      }
     },
     "output_type": "display_data"
    }
   ],
   "source": [
    "# train the Word2Vec model for 10 iterations\n",
    "word2Vec.setMaxIter(10)\n",
    "model = word2Vec.fit(keywords_all)"
   ]
  },
  {
   "cell_type": "code",
   "execution_count": 0,
   "metadata": {
    "application/vnd.databricks.v1+cell": {
     "inputWidgets": {},
     "nuid": "6572fdaf-ea6f-42a9-9c8f-a8003bab5921",
     "showTitle": false,
     "title": ""
    }
   },
   "outputs": [
    {
     "data": {
      "text/html": [
       "<style scoped>\n",
       "  .ansiout {\n",
       "    display: block;\n",
       "    unicode-bidi: embed;\n",
       "    white-space: pre-wrap;\n",
       "    word-wrap: break-word;\n",
       "    word-break: break-all;\n",
       "    font-family: \"Source Code Pro\", \"Menlo\", monospace;;\n",
       "    font-size: 13px;\n",
       "    color: #555;\n",
       "    margin-left: 4px;\n",
       "    line-height: 19px;\n",
       "  }\n",
       "</style>\n",
       "<div class=\"ansiout\">/databricks/spark/python/pyspark/sql/context.py:134: FutureWarning: Deprecated in 3.0.0. Use SparkSession.builder.getOrCreate() instead.\n",
       "  warnings.warn(\n",
       "+------+--------------------+\n",
       "  word|              vector|\n",
       "+------+--------------------+\n",
       " 45717|[-0.7876932621002...|\n",
       " 10292|[-0.3576041460037...|\n",
       " 19125|[-0.4223117232322...|\n",
       " 67521|[-0.1706112623214...|\n",
       " 45017|[-0.4092124998569...|\n",
       " 26985|[-0.3862453699111...|\n",
       "  5451|[-0.2081219404935...|\n",
       " 46826|[-0.3541896939277...|\n",
       "  4018|[-0.3182195425033...|\n",
       " 58451|[-0.3585941195487...|\n",
       " 31211|[-0.4949035644531...|\n",
       " 17319|[0.04135286435484...|\n",
       " 20778|[-0.7178880572319...|\n",
       " 61947|[0.24548031389713...|\n",
       " 75120|[-0.6012022495269...|\n",
       " 25285|[-0.6163133382797...|\n",
       " 65138|[-0.0281073171645...|\n",
       "300932|[-0.6521722078323...|\n",
       "291876|[-0.9528971314430...|\n",
       " 79342|[-0.6839565038681...|\n",
       "+------+--------------------+\n",
       "only showing top 20 rows\n",
       "\n",
       "</div>"
      ]
     },
     "metadata": {
      "application/vnd.databricks.v1+output": {
       "addedWidgets": {},
       "arguments": {},
       "data": "<div class=\"ansiout\">/databricks/spark/python/pyspark/sql/context.py:134: FutureWarning: Deprecated in 3.0.0. Use SparkSession.builder.getOrCreate() instead.\n  warnings.warn(\n+------+--------------------+\n|  word|              vector|\n+------+--------------------+\n| 45717|[-0.7876932621002...|\n| 10292|[-0.3576041460037...|\n| 19125|[-0.4223117232322...|\n| 67521|[-0.1706112623214...|\n| 45017|[-0.4092124998569...|\n| 26985|[-0.3862453699111...|\n|  5451|[-0.2081219404935...|\n| 46826|[-0.3541896939277...|\n|  4018|[-0.3182195425033...|\n| 58451|[-0.3585941195487...|\n| 31211|[-0.4949035644531...|\n| 17319|[0.04135286435484...|\n| 20778|[-0.7178880572319...|\n| 61947|[0.24548031389713...|\n| 75120|[-0.6012022495269...|\n| 25285|[-0.6163133382797...|\n| 65138|[-0.0281073171645...|\n|300932|[-0.6521722078323...|\n|291876|[-0.9528971314430...|\n| 79342|[-0.6839565038681...|\n+------+--------------------+\nonly showing top 20 rows\n\n</div>",
       "datasetInfos": [],
       "metadata": {},
       "removedWidgets": [],
       "type": "html"
      }
     },
     "output_type": "display_data"
    }
   ],
   "source": [
    "# Embeddings for keywords\n",
    "model.getVectors().show()"
   ]
  },
  {
   "cell_type": "code",
   "execution_count": 0,
   "metadata": {
    "application/vnd.databricks.v1+cell": {
     "inputWidgets": {},
     "nuid": "ea73f781-1f94-4217-a2c2-384d7d00fd5a",
     "showTitle": false,
     "title": ""
    }
   },
   "outputs": [
    {
     "data": {
      "text/html": [
       "<style scoped>\n",
       "  .ansiout {\n",
       "    display: block;\n",
       "    unicode-bidi: embed;\n",
       "    white-space: pre-wrap;\n",
       "    word-wrap: break-word;\n",
       "    word-break: break-all;\n",
       "    font-family: \"Source Code Pro\", \"Menlo\", monospace;;\n",
       "    font-size: 13px;\n",
       "    color: #555;\n",
       "    margin-left: 4px;\n",
       "    line-height: 19px;\n",
       "  }\n",
       "</style>\n",
       "<div class=\"ansiout\"></div>"
      ]
     },
     "metadata": {
      "application/vnd.databricks.v1+output": {
       "addedWidgets": {},
       "arguments": {},
       "data": "<div class=\"ansiout\"></div>",
       "datasetInfos": [],
       "metadata": {},
       "removedWidgets": [],
       "type": "html"
      }
     },
     "output_type": "display_data"
    }
   ],
   "source": [
    "kw_vectors = model.getVectors().collect()"
   ]
  },
  {
   "cell_type": "code",
   "execution_count": 0,
   "metadata": {
    "application/vnd.databricks.v1+cell": {
     "inputWidgets": {},
     "nuid": "81bf8f3a-7208-497f-8323-654bb9fa9d09",
     "showTitle": false,
     "title": ""
    }
   },
   "outputs": [
    {
     "data": {
      "text/html": [
       "<style scoped>\n",
       "  .ansiout {\n",
       "    display: block;\n",
       "    unicode-bidi: embed;\n",
       "    white-space: pre-wrap;\n",
       "    word-wrap: break-word;\n",
       "    word-break: break-all;\n",
       "    font-family: \"Source Code Pro\", \"Menlo\", monospace;;\n",
       "    font-size: 13px;\n",
       "    color: #555;\n",
       "    margin-left: 4px;\n",
       "    line-height: 19px;\n",
       "  }\n",
       "</style>\n",
       "<div class=\"ansiout\"></div>"
      ]
     },
     "metadata": {
      "application/vnd.databricks.v1+output": {
       "addedWidgets": {},
       "arguments": {},
       "data": "<div class=\"ansiout\"></div>",
       "datasetInfos": [],
       "metadata": {},
       "removedWidgets": [],
       "type": "html"
      }
     },
     "output_type": "display_data"
    }
   ],
   "source": [
    "# convert keyword vectors dataframe to dictionary for fast lookup \n",
    "keyword_vectors_map = {}\n",
    "for row in kw_vectors:\n",
    "    keyword_vectors_map[int(row['word'])] = row['vector']"
   ]
  },
  {
   "cell_type": "code",
   "execution_count": 0,
   "metadata": {
    "application/vnd.databricks.v1+cell": {
     "inputWidgets": {},
     "nuid": "3c0382ac-0360-4c14-84c1-14c3aad5a8dd",
     "showTitle": false,
     "title": ""
    }
   },
   "outputs": [
    {
     "data": {
      "text/html": [
       "<style scoped>\n",
       "  .ansiout {\n",
       "    display: block;\n",
       "    unicode-bidi: embed;\n",
       "    white-space: pre-wrap;\n",
       "    word-wrap: break-word;\n",
       "    word-break: break-all;\n",
       "    font-family: \"Source Code Pro\", \"Menlo\", monospace;;\n",
       "    font-size: 13px;\n",
       "    color: #555;\n",
       "    margin-left: 4px;\n",
       "    line-height: 19px;\n",
       "  }\n",
       "</style>\n",
       "<div class=\"ansiout\"></div>"
      ]
     },
     "metadata": {
      "application/vnd.databricks.v1+output": {
       "addedWidgets": {},
       "arguments": {},
       "data": "<div class=\"ansiout\"></div>",
       "datasetInfos": [],
       "metadata": {},
       "removedWidgets": [],
       "type": "html"
      }
     },
     "output_type": "display_data"
    }
   ],
   "source": [
    "# select users and recommended accounts acceptance and rejection history \n",
    "log_df  = df.select('UserId','ItemId','Result')\n",
    "data = log_df.withColumn(\"Result\", F.when(log_df['Result']== -1,0).otherwise(log_df['Result']))"
   ]
  },
  {
   "cell_type": "code",
   "execution_count": 0,
   "metadata": {
    "application/vnd.databricks.v1+cell": {
     "inputWidgets": {},
     "nuid": "8d46294e-5669-4f33-bfe5-440afd16db0d",
     "showTitle": false,
     "title": ""
    }
   },
   "outputs": [
    {
     "data": {
      "text/html": [
       "<style scoped>\n",
       "  .ansiout {\n",
       "    display: block;\n",
       "    unicode-bidi: embed;\n",
       "    white-space: pre-wrap;\n",
       "    word-wrap: break-word;\n",
       "    word-break: break-all;\n",
       "    font-family: \"Source Code Pro\", \"Menlo\", monospace;;\n",
       "    font-size: 13px;\n",
       "    color: #555;\n",
       "    margin-left: 4px;\n",
       "    line-height: 19px;\n",
       "  }\n",
       "</style>\n",
       "<div class=\"ansiout\"></div>"
      ]
     },
     "metadata": {
      "application/vnd.databricks.v1+output": {
       "addedWidgets": {},
       "arguments": {},
       "data": "<div class=\"ansiout\"></div>",
       "datasetInfos": [],
       "metadata": {},
       "removedWidgets": [],
       "type": "html"
      }
     },
     "output_type": "display_data"
    }
   ],
   "source": [
    "# get keywords for user account\n",
    "data = data.join(user_kw_df.select('UserId','Keywords_list'), 'UserId', 'inner')\\\n",
    "           .withColumnRenamed('Keywords_list', 'User_keywords')"
   ]
  },
  {
   "cell_type": "code",
   "execution_count": 0,
   "metadata": {
    "application/vnd.databricks.v1+cell": {
     "inputWidgets": {},
     "nuid": "62f573e0-3b15-4fcf-8114-73764f556841",
     "showTitle": false,
     "title": ""
    }
   },
   "outputs": [
    {
     "data": {
      "text/html": [
       "<style scoped>\n",
       "  .ansiout {\n",
       "    display: block;\n",
       "    unicode-bidi: embed;\n",
       "    white-space: pre-wrap;\n",
       "    word-wrap: break-word;\n",
       "    word-break: break-all;\n",
       "    font-family: \"Source Code Pro\", \"Menlo\", monospace;;\n",
       "    font-size: 13px;\n",
       "    color: #555;\n",
       "    margin-left: 4px;\n",
       "    line-height: 19px;\n",
       "  }\n",
       "</style>\n",
       "<div class=\"ansiout\"></div>"
      ]
     },
     "metadata": {
      "application/vnd.databricks.v1+output": {
       "addedWidgets": {},
       "arguments": {},
       "data": "<div class=\"ansiout\"></div>",
       "datasetInfos": [],
       "metadata": {},
       "removedWidgets": [],
       "type": "html"
      }
     },
     "output_type": "display_data"
    }
   ],
   "source": [
    "item_kw_df  = df.select('ItemId','Keywords_list').distinct()"
   ]
  },
  {
   "cell_type": "code",
   "execution_count": 0,
   "metadata": {
    "application/vnd.databricks.v1+cell": {
     "inputWidgets": {},
     "nuid": "320a3977-9eac-4347-812f-60f91bd4754d",
     "showTitle": false,
     "title": ""
    }
   },
   "outputs": [
    {
     "data": {
      "text/html": [
       "<style scoped>\n",
       "  .ansiout {\n",
       "    display: block;\n",
       "    unicode-bidi: embed;\n",
       "    white-space: pre-wrap;\n",
       "    word-wrap: break-word;\n",
       "    word-break: break-all;\n",
       "    font-family: \"Source Code Pro\", \"Menlo\", monospace;;\n",
       "    font-size: 13px;\n",
       "    color: #555;\n",
       "    margin-left: 4px;\n",
       "    line-height: 19px;\n",
       "  }\n",
       "</style>\n",
       "<div class=\"ansiout\"></div>"
      ]
     },
     "metadata": {
      "application/vnd.databricks.v1+output": {
       "addedWidgets": {},
       "arguments": {},
       "data": "<div class=\"ansiout\"></div>",
       "datasetInfos": [],
       "metadata": {},
       "removedWidgets": [],
       "type": "html"
      }
     },
     "output_type": "display_data"
    }
   ],
   "source": [
    "# get keywords for candidate account\n",
    "data = data.join(item_kw_df, 'ItemId', 'inner').withColumnRenamed('Keywords_list', 'Item_keywords')"
   ]
  },
  {
   "cell_type": "code",
   "execution_count": 0,
   "metadata": {
    "application/vnd.databricks.v1+cell": {
     "inputWidgets": {},
     "nuid": "e936454f-4343-4ef7-b782-dc466518fa68",
     "showTitle": false,
     "title": ""
    }
   },
   "outputs": [
    {
     "data": {
      "text/html": [
       "<style scoped>\n",
       "  .ansiout {\n",
       "    display: block;\n",
       "    unicode-bidi: embed;\n",
       "    white-space: pre-wrap;\n",
       "    word-wrap: break-word;\n",
       "    word-break: break-all;\n",
       "    font-family: \"Source Code Pro\", \"Menlo\", monospace;;\n",
       "    font-size: 13px;\n",
       "    color: #555;\n",
       "    margin-left: 4px;\n",
       "    line-height: 19px;\n",
       "  }\n",
       "</style>\n",
       "<div class=\"ansiout\"></div>"
      ]
     },
     "metadata": {
      "application/vnd.databricks.v1+output": {
       "addedWidgets": {},
       "arguments": {},
       "data": "<div class=\"ansiout\"></div>",
       "datasetInfos": [],
       "metadata": {},
       "removedWidgets": [],
       "type": "html"
      }
     },
     "output_type": "display_data"
    }
   ],
   "source": [
    "# rename 'Result' column as label. Requirement for LogisticRegression model\n",
    "data = data.withColumnRenamed('Result', 'label')"
   ]
  },
  {
   "cell_type": "code",
   "execution_count": 0,
   "metadata": {
    "application/vnd.databricks.v1+cell": {
     "inputWidgets": {},
     "nuid": "6de2ba25-a53e-4e94-9b47-7c0c8226e28e",
     "showTitle": false,
     "title": ""
    }
   },
   "outputs": [
    {
     "data": {
      "text/html": [
       "<style scoped>\n",
       "  .ansiout {\n",
       "    display: block;\n",
       "    unicode-bidi: embed;\n",
       "    white-space: pre-wrap;\n",
       "    word-wrap: break-word;\n",
       "    word-break: break-all;\n",
       "    font-family: \"Source Code Pro\", \"Menlo\", monospace;;\n",
       "    font-size: 13px;\n",
       "    color: #555;\n",
       "    margin-left: 4px;\n",
       "    line-height: 19px;\n",
       "  }\n",
       "</style>\n",
       "<div class=\"ansiout\"></div>"
      ]
     },
     "metadata": {
      "application/vnd.databricks.v1+output": {
       "addedWidgets": {},
       "arguments": {},
       "data": "<div class=\"ansiout\"></div>",
       "datasetInfos": [],
       "metadata": {},
       "removedWidgets": [],
       "type": "html"
      }
     },
     "output_type": "display_data"
    }
   ],
   "source": [
    "# get all the keyword embeddings for an account and sum them to get profile vector\n",
    "def get_keyword_vector(keywords):\n",
    "    default = [0.0,0.0,0.0,0.0, 0.0]\n",
    "    default_vector = Vectors.dense(default)\n",
    "    vectors = list(map(lambda x: keyword_vectors_map.get(x, default_vector), keywords))\n",
    "    final_vector = reduce(lambda x,y: x+y, vectors)\n",
    "    return final_vector  "
   ]
  },
  {
   "cell_type": "code",
   "execution_count": 0,
   "metadata": {
    "application/vnd.databricks.v1+cell": {
     "inputWidgets": {},
     "nuid": "702d232f-270c-4ec9-82c0-f03e2d722ac6",
     "showTitle": false,
     "title": ""
    }
   },
   "outputs": [
    {
     "data": {
      "text/html": [
       "<style scoped>\n",
       "  .ansiout {\n",
       "    display: block;\n",
       "    unicode-bidi: embed;\n",
       "    white-space: pre-wrap;\n",
       "    word-wrap: break-word;\n",
       "    word-break: break-all;\n",
       "    font-family: \"Source Code Pro\", \"Menlo\", monospace;;\n",
       "    font-size: 13px;\n",
       "    color: #555;\n",
       "    margin-left: 4px;\n",
       "    line-height: 19px;\n",
       "  }\n",
       "</style>\n",
       "<div class=\"ansiout\"></div>"
      ]
     },
     "metadata": {
      "application/vnd.databricks.v1+output": {
       "addedWidgets": {},
       "arguments": {},
       "data": "<div class=\"ansiout\"></div>",
       "datasetInfos": [],
       "metadata": {},
       "removedWidgets": [],
       "type": "html"
      }
     },
     "output_type": "display_data"
    }
   ],
   "source": [
    "# Register the udf to get summation of keyword embeddings\n",
    "get_kws_vector = udf(get_keyword_vector, VectorUDT())"
   ]
  },
  {
   "cell_type": "code",
   "execution_count": 0,
   "metadata": {
    "application/vnd.databricks.v1+cell": {
     "inputWidgets": {},
     "nuid": "6bca1945-d677-4d7c-9f94-1c461fc08849",
     "showTitle": false,
     "title": ""
    }
   },
   "outputs": [
    {
     "data": {
      "text/html": [
       "<style scoped>\n",
       "  .ansiout {\n",
       "    display: block;\n",
       "    unicode-bidi: embed;\n",
       "    white-space: pre-wrap;\n",
       "    word-wrap: break-word;\n",
       "    word-break: break-all;\n",
       "    font-family: \"Source Code Pro\", \"Menlo\", monospace;;\n",
       "    font-size: 13px;\n",
       "    color: #555;\n",
       "    margin-left: 4px;\n",
       "    line-height: 19px;\n",
       "  }\n",
       "</style>\n",
       "<div class=\"ansiout\"></div>"
      ]
     },
     "metadata": {
      "application/vnd.databricks.v1+output": {
       "addedWidgets": {},
       "arguments": {},
       "data": "<div class=\"ansiout\"></div>",
       "datasetInfos": [],
       "metadata": {},
       "removedWidgets": [],
       "type": "html"
      }
     },
     "output_type": "display_data"
    }
   ],
   "source": [
    "# get profile vector for User account\n",
    "data_user_vector = data.withColumn('User_vector', get_kws_vector('User_keywords'))"
   ]
  },
  {
   "cell_type": "code",
   "execution_count": 0,
   "metadata": {
    "application/vnd.databricks.v1+cell": {
     "inputWidgets": {},
     "nuid": "2ebffb28-4778-435a-8ae5-0812d686438b",
     "showTitle": false,
     "title": ""
    }
   },
   "outputs": [
    {
     "data": {
      "text/html": [
       "<style scoped>\n",
       "  .ansiout {\n",
       "    display: block;\n",
       "    unicode-bidi: embed;\n",
       "    white-space: pre-wrap;\n",
       "    word-wrap: break-word;\n",
       "    word-break: break-all;\n",
       "    font-family: \"Source Code Pro\", \"Menlo\", monospace;;\n",
       "    font-size: 13px;\n",
       "    color: #555;\n",
       "    margin-left: 4px;\n",
       "    line-height: 19px;\n",
       "  }\n",
       "</style>\n",
       "<div class=\"ansiout\">+-------+------+-----+--------------------+--------------------+--------------------+\n",
       " ItemId|UserId|label|       User_keywords|       Item_keywords|         User_vector|\n",
       "+-------+------+-----+--------------------+--------------------+--------------------+\n",
       "1760403|100068|    1|[4193, 6447, 334,...|[45846, 454309, 4...|[-3.4732505311258...|\n",
       "1760388|100102|    0|[277, 240, 3237, ...|[555948, 638452, ...|[-4.1937828622758...|\n",
       "1760388|100570|    1|            [445854]|[555948, 638452, ...|[0.0,0.0,0.0,0.0,...|\n",
       "1760403|100618|    1|[293, 59, 100, 52...|[45846, 454309, 4...|[-7.2770457554142...|\n",
       "1760388|100668|    0|          [12, 1104]|[555948, 638452, ...|[-0.4918202459812...|\n",
       "1760403|101142|    0|    [1921, 4263, 23]|[45846, 454309, 4...|[-2.1911464333534...|\n",
       "1760388|101142|    0|    [1921, 4263, 23]|[555948, 638452, ...|[-2.1911464333534...|\n",
       "1760388|101142|    0|    [1921, 4263, 23]|[555948, 638452, ...|[-2.1911464333534...|\n",
       "1760388|101142|    0|    [1921, 4263, 23]|[555948, 638452, ...|[-2.1911464333534...|\n",
       "1760388|101142|    0|    [1921, 4263, 23]|[555948, 638452, ...|[-2.1911464333534...|\n",
       "1760403|101248|    0|[976, 14, 89517, ...|[45846, 454309, 4...|[-0.8946809992194...|\n",
       "1760388|101764|    1|[107, 37, 312, 75...|[555948, 638452, ...|[-4.2695779036730...|\n",
       "1760403|102035|    0|               [234]|[45846, 454309, 4...|[-0.0796017348766...|\n",
       "1760403|102286|    0|               [923]|[45846, 454309, 4...|[-0.3087396025657...|\n",
       "1760388|102391|    0|[16, 246, 17, 340...|[555948, 638452, ...|[-5.4565728157758...|\n",
       "1760388|102391|    0|[16, 246, 17, 340...|[555948, 638452, ...|[-5.4565728157758...|\n",
       "1760403|102430|    0|[690, 1092, 285, ...|[45846, 454309, 4...|[-2.5464228112250...|\n",
       "1760388|102430|    0|[690, 1092, 285, ...|[555948, 638452, ...|[-2.5464228112250...|\n",
       "1760388|102430|    0|[690, 1092, 285, ...|[555948, 638452, ...|[-2.5464228112250...|\n",
       "1760388|102430|    0|[690, 1092, 285, ...|[555948, 638452, ...|[-2.5464228112250...|\n",
       "+-------+------+-----+--------------------+--------------------+--------------------+\n",
       "only showing top 20 rows\n",
       "\n",
       "</div>"
      ]
     },
     "metadata": {
      "application/vnd.databricks.v1+output": {
       "addedWidgets": {},
       "arguments": {},
       "data": "<div class=\"ansiout\">+-------+------+-----+--------------------+--------------------+--------------------+\n| ItemId|UserId|label|       User_keywords|       Item_keywords|         User_vector|\n+-------+------+-----+--------------------+--------------------+--------------------+\n|1760403|100068|    1|[4193, 6447, 334,...|[45846, 454309, 4...|[-3.4732505311258...|\n|1760388|100102|    0|[277, 240, 3237, ...|[555948, 638452, ...|[-4.1937828622758...|\n|1760388|100570|    1|            [445854]|[555948, 638452, ...|[0.0,0.0,0.0,0.0,...|\n|1760403|100618|    1|[293, 59, 100, 52...|[45846, 454309, 4...|[-7.2770457554142...|\n|1760388|100668|    0|          [12, 1104]|[555948, 638452, ...|[-0.4918202459812...|\n|1760403|101142|    0|    [1921, 4263, 23]|[45846, 454309, 4...|[-2.1911464333534...|\n|1760388|101142|    0|    [1921, 4263, 23]|[555948, 638452, ...|[-2.1911464333534...|\n|1760388|101142|    0|    [1921, 4263, 23]|[555948, 638452, ...|[-2.1911464333534...|\n|1760388|101142|    0|    [1921, 4263, 23]|[555948, 638452, ...|[-2.1911464333534...|\n|1760388|101142|    0|    [1921, 4263, 23]|[555948, 638452, ...|[-2.1911464333534...|\n|1760403|101248|    0|[976, 14, 89517, ...|[45846, 454309, 4...|[-0.8946809992194...|\n|1760388|101764|    1|[107, 37, 312, 75...|[555948, 638452, ...|[-4.2695779036730...|\n|1760403|102035|    0|               [234]|[45846, 454309, 4...|[-0.0796017348766...|\n|1760403|102286|    0|               [923]|[45846, 454309, 4...|[-0.3087396025657...|\n|1760388|102391|    0|[16, 246, 17, 340...|[555948, 638452, ...|[-5.4565728157758...|\n|1760388|102391|    0|[16, 246, 17, 340...|[555948, 638452, ...|[-5.4565728157758...|\n|1760403|102430|    0|[690, 1092, 285, ...|[45846, 454309, 4...|[-2.5464228112250...|\n|1760388|102430|    0|[690, 1092, 285, ...|[555948, 638452, ...|[-2.5464228112250...|\n|1760388|102430|    0|[690, 1092, 285, ...|[555948, 638452, ...|[-2.5464228112250...|\n|1760388|102430|    0|[690, 1092, 285, ...|[555948, 638452, ...|[-2.5464228112250...|\n+-------+------+-----+--------------------+--------------------+--------------------+\nonly showing top 20 rows\n\n</div>",
       "datasetInfos": [],
       "metadata": {},
       "removedWidgets": [],
       "type": "html"
      }
     },
     "output_type": "display_data"
    }
   ],
   "source": [
    "data_user_vector.show()"
   ]
  },
  {
   "cell_type": "code",
   "execution_count": 0,
   "metadata": {
    "application/vnd.databricks.v1+cell": {
     "inputWidgets": {},
     "nuid": "3bb84cde-e43d-4641-8dd0-d8ba48ddbbe1",
     "showTitle": false,
     "title": ""
    }
   },
   "outputs": [
    {
     "data": {
      "text/html": [
       "<style scoped>\n",
       "  .ansiout {\n",
       "    display: block;\n",
       "    unicode-bidi: embed;\n",
       "    white-space: pre-wrap;\n",
       "    word-wrap: break-word;\n",
       "    word-break: break-all;\n",
       "    font-family: \"Source Code Pro\", \"Menlo\", monospace;;\n",
       "    font-size: 13px;\n",
       "    color: #555;\n",
       "    margin-left: 4px;\n",
       "    line-height: 19px;\n",
       "  }\n",
       "</style>\n",
       "<div class=\"ansiout\"></div>"
      ]
     },
     "metadata": {
      "application/vnd.databricks.v1+output": {
       "addedWidgets": {},
       "arguments": {},
       "data": "<div class=\"ansiout\"></div>",
       "datasetInfos": [],
       "metadata": {},
       "removedWidgets": [],
       "type": "html"
      }
     },
     "output_type": "display_data"
    }
   ],
   "source": [
    "# get profile vector for candidate account\n",
    "data_all_vectors = data_user_vector.withColumn('Item_vector', get_kws_vector('Item_keywords'))"
   ]
  },
  {
   "cell_type": "code",
   "execution_count": 0,
   "metadata": {
    "application/vnd.databricks.v1+cell": {
     "inputWidgets": {},
     "nuid": "3e9f967b-85b6-4619-829f-0950b73ea210",
     "showTitle": false,
     "title": ""
    }
   },
   "outputs": [
    {
     "data": {
      "text/html": [
       "<style scoped>\n",
       "  .ansiout {\n",
       "    display: block;\n",
       "    unicode-bidi: embed;\n",
       "    white-space: pre-wrap;\n",
       "    word-wrap: break-word;\n",
       "    word-break: break-all;\n",
       "    font-family: \"Source Code Pro\", \"Menlo\", monospace;;\n",
       "    font-size: 13px;\n",
       "    color: #555;\n",
       "    margin-left: 4px;\n",
       "    line-height: 19px;\n",
       "  }\n",
       "</style>\n",
       "<div class=\"ansiout\"></div>"
      ]
     },
     "metadata": {
      "application/vnd.databricks.v1+output": {
       "addedWidgets": {},
       "arguments": {},
       "data": "<div class=\"ansiout\"></div>",
       "datasetInfos": [],
       "metadata": {},
       "removedWidgets": [],
       "type": "html"
      }
     },
     "output_type": "display_data"
    }
   ],
   "source": [
    "# combine all the features using vector assembler\n",
    "va = VectorAssembler(outputCol=\"features\", inputCols=['User_vector','Item_vector'])"
   ]
  },
  {
   "cell_type": "code",
   "execution_count": 0,
   "metadata": {
    "application/vnd.databricks.v1+cell": {
     "inputWidgets": {},
     "nuid": "f4eef563-ffe0-4cc7-9a9e-afedc343519c",
     "showTitle": false,
     "title": ""
    }
   },
   "outputs": [
    {
     "data": {
      "text/html": [
       "<style scoped>\n",
       "  .ansiout {\n",
       "    display: block;\n",
       "    unicode-bidi: embed;\n",
       "    white-space: pre-wrap;\n",
       "    word-wrap: break-word;\n",
       "    word-break: break-all;\n",
       "    font-family: \"Source Code Pro\", \"Menlo\", monospace;;\n",
       "    font-size: 13px;\n",
       "    color: #555;\n",
       "    margin-left: 4px;\n",
       "    line-height: 19px;\n",
       "  }\n",
       "</style>\n",
       "<div class=\"ansiout\"></div>"
      ]
     },
     "metadata": {
      "application/vnd.databricks.v1+output": {
       "addedWidgets": {},
       "arguments": {},
       "data": "<div class=\"ansiout\"></div>",
       "datasetInfos": [],
       "metadata": {},
       "removedWidgets": [],
       "type": "html"
      }
     },
     "output_type": "display_data"
    }
   ],
   "source": [
    "lpoints = va.transform(data_all_vectors).select(\"features\", \"label\")"
   ]
  },
  {
   "cell_type": "code",
   "execution_count": 0,
   "metadata": {
    "application/vnd.databricks.v1+cell": {
     "inputWidgets": {},
     "nuid": "3e035e63-5929-4204-8d47-256ec1f4ed3e",
     "showTitle": false,
     "title": ""
    }
   },
   "outputs": [
    {
     "data": {
      "text/html": [
       "<style scoped>\n",
       "  .ansiout {\n",
       "    display: block;\n",
       "    unicode-bidi: embed;\n",
       "    white-space: pre-wrap;\n",
       "    word-wrap: break-word;\n",
       "    word-break: break-all;\n",
       "    font-family: \"Source Code Pro\", \"Menlo\", monospace;;\n",
       "    font-size: 13px;\n",
       "    color: #555;\n",
       "    margin-left: 4px;\n",
       "    line-height: 19px;\n",
       "  }\n",
       "</style>\n",
       "<div class=\"ansiout\"></div>"
      ]
     },
     "metadata": {
      "application/vnd.databricks.v1+output": {
       "addedWidgets": {},
       "arguments": {},
       "data": "<div class=\"ansiout\"></div>",
       "datasetInfos": [],
       "metadata": {},
       "removedWidgets": [],
       "type": "html"
      }
     },
     "output_type": "display_data"
    }
   ],
   "source": [
    "#split into train and validation set\n",
    "splits = lpoints.randomSplit([0.8,0.2])\n",
    "train = splits[0].cache()\n",
    "valid = splits[1].cache()"
   ]
  },
  {
   "cell_type": "code",
   "execution_count": 0,
   "metadata": {
    "application/vnd.databricks.v1+cell": {
     "inputWidgets": {},
     "nuid": "feaaaf2b-58bc-49f5-bced-3d7f3168dc27",
     "showTitle": false,
     "title": ""
    }
   },
   "outputs": [
    {
     "data": {
      "text/html": [
       "<style scoped>\n",
       "  .ansiout {\n",
       "    display: block;\n",
       "    unicode-bidi: embed;\n",
       "    white-space: pre-wrap;\n",
       "    word-wrap: break-word;\n",
       "    word-break: break-all;\n",
       "    font-family: \"Source Code Pro\", \"Menlo\", monospace;;\n",
       "    font-size: 13px;\n",
       "    color: #555;\n",
       "    margin-left: 4px;\n",
       "    line-height: 19px;\n",
       "  }\n",
       "</style>\n",
       "<div class=\"ansiout\">+--------------------+-----+\n",
       "            features|label|\n",
       "+--------------------+-----+\n",
       "(10,[5,6,7,8,9],[...|    0|\n",
       "(10,[5,6,7,8,9],[...|    0|\n",
       "(10,[5,6,7,8,9],[...|    0|\n",
       "(10,[5,6,7,8,9],[...|    0|\n",
       "(10,[5,6,7,8,9],[...|    0|\n",
       "(10,[5,6,7,8,9],[...|    0|\n",
       "(10,[5,6,7,8,9],[...|    0|\n",
       "(10,[5,6,7,8,9],[...|    0|\n",
       "(10,[5,6,7,8,9],[...|    0|\n",
       "(10,[5,6,7,8,9],[...|    0|\n",
       "(10,[5,6,7,8,9],[...|    0|\n",
       "(10,[5,6,7,8,9],[...|    0|\n",
       "(10,[5,6,7,8,9],[...|    0|\n",
       "(10,[5,6,7,8,9],[...|    0|\n",
       "(10,[5,6,7,8,9],[...|    0|\n",
       "(10,[5,6,7,8,9],[...|    0|\n",
       "(10,[5,6,7,8,9],[...|    0|\n",
       "(10,[5,6,7,8,9],[...|    0|\n",
       "(10,[5,6,7,8,9],[...|    0|\n",
       "(10,[5,6,7,8,9],[...|    0|\n",
       "+--------------------+-----+\n",
       "only showing top 20 rows\n",
       "\n",
       "</div>"
      ]
     },
     "metadata": {
      "application/vnd.databricks.v1+output": {
       "addedWidgets": {},
       "arguments": {},
       "data": "<div class=\"ansiout\">+--------------------+-----+\n|            features|label|\n+--------------------+-----+\n|(10,[5,6,7,8,9],[...|    0|\n|(10,[5,6,7,8,9],[...|    0|\n|(10,[5,6,7,8,9],[...|    0|\n|(10,[5,6,7,8,9],[...|    0|\n|(10,[5,6,7,8,9],[...|    0|\n|(10,[5,6,7,8,9],[...|    0|\n|(10,[5,6,7,8,9],[...|    0|\n|(10,[5,6,7,8,9],[...|    0|\n|(10,[5,6,7,8,9],[...|    0|\n|(10,[5,6,7,8,9],[...|    0|\n|(10,[5,6,7,8,9],[...|    0|\n|(10,[5,6,7,8,9],[...|    0|\n|(10,[5,6,7,8,9],[...|    0|\n|(10,[5,6,7,8,9],[...|    0|\n|(10,[5,6,7,8,9],[...|    0|\n|(10,[5,6,7,8,9],[...|    0|\n|(10,[5,6,7,8,9],[...|    0|\n|(10,[5,6,7,8,9],[...|    0|\n|(10,[5,6,7,8,9],[...|    0|\n|(10,[5,6,7,8,9],[...|    0|\n+--------------------+-----+\nonly showing top 20 rows\n\n</div>",
       "datasetInfos": [],
       "metadata": {},
       "removedWidgets": [],
       "type": "html"
      }
     },
     "output_type": "display_data"
    }
   ],
   "source": [
    "train.show()"
   ]
  },
  {
   "cell_type": "code",
   "execution_count": 0,
   "metadata": {
    "application/vnd.databricks.v1+cell": {
     "inputWidgets": {},
     "nuid": "321b8404-9fd8-48a8-9b12-2f372c395657",
     "showTitle": false,
     "title": ""
    }
   },
   "outputs": [
    {
     "data": {
      "text/html": [
       "<style scoped>\n",
       "  .ansiout {\n",
       "    display: block;\n",
       "    unicode-bidi: embed;\n",
       "    white-space: pre-wrap;\n",
       "    word-wrap: break-word;\n",
       "    word-break: break-all;\n",
       "    font-family: \"Source Code Pro\", \"Menlo\", monospace;;\n",
       "    font-size: 13px;\n",
       "    color: #555;\n",
       "    margin-left: 4px;\n",
       "    line-height: 19px;\n",
       "  }\n",
       "</style>\n",
       "<div class=\"ansiout\"></div>"
      ]
     },
     "metadata": {
      "application/vnd.databricks.v1+output": {
       "addedWidgets": {},
       "arguments": {},
       "data": "<div class=\"ansiout\"></div>",
       "datasetInfos": [],
       "metadata": {},
       "removedWidgets": [],
       "type": "html"
      }
     },
     "output_type": "display_data"
    }
   ],
   "source": [
    "# Intialize Logistic regression model. Maximum number of iterations is set to 10\n",
    "lr = LogisticRegression(regParam=0.01, maxIter=10, fitIntercept=True)\n",
    "lrmodel = lr.fit(train)"
   ]
  },
  {
   "cell_type": "code",
   "execution_count": 0,
   "metadata": {
    "application/vnd.databricks.v1+cell": {
     "inputWidgets": {},
     "nuid": "5da62b29-5447-43d3-a520-334d11587e84",
     "showTitle": false,
     "title": ""
    }
   },
   "outputs": [
    {
     "data": {
      "text/html": [
       "<style scoped>\n",
       "  .ansiout {\n",
       "    display: block;\n",
       "    unicode-bidi: embed;\n",
       "    white-space: pre-wrap;\n",
       "    word-wrap: break-word;\n",
       "    word-break: break-all;\n",
       "    font-family: \"Source Code Pro\", \"Menlo\", monospace;;\n",
       "    font-size: 13px;\n",
       "    color: #555;\n",
       "    margin-left: 4px;\n",
       "    line-height: 19px;\n",
       "  }\n",
       "</style>\n",
       "<div class=\"ansiout\">+--------------------+-----+--------------------+--------------------+----------+\n",
       "            features|label|       rawPrediction|         probability|prediction|\n",
       "+--------------------+-----+--------------------+--------------------+----------+\n",
       "(10,[5,6,7,8,9],[...|    0|[2.46531080685459...|[0.92167391546930...|       0.0|\n",
       "(10,[5,6,7,8,9],[...|    0|[2.46531080685459...|[0.92167391546930...|       0.0|\n",
       "(10,[5,6,7,8,9],[...|    0|[2.46531080685459...|[0.92167391546930...|       0.0|\n",
       "(10,[5,6,7,8,9],[...|    0|[2.46531080685459...|[0.92167391546930...|       0.0|\n",
       "(10,[5,6,7,8,9],[...|    0|[2.46531080685459...|[0.92167391546930...|       0.0|\n",
       "(10,[5,6,7,8,9],[...|    0|[2.46531080685459...|[0.92167391546930...|       0.0|\n",
       "(10,[5,6,7,8,9],[...|    0|[2.46531080685459...|[0.92167391546930...|       0.0|\n",
       "(10,[5,6,7,8,9],[...|    1|[2.46531080685459...|[0.92167391546930...|       0.0|\n",
       "(10,[5,6,7,8,9],[...|    0|[2.54088237370606...|[0.92695859140224...|       0.0|\n",
       "(10,[5,6,7,8,9],[...|    0|[2.47442735011196...|[0.92232952400083...|       0.0|\n",
       "(10,[5,6,7,8,9],[...|    0|[2.47442735011196...|[0.92232952400083...|       0.0|\n",
       "(10,[5,6,7,8,9],[...|    0|[2.47442735011196...|[0.92232952400083...|       0.0|\n",
       "(10,[5,6,7,8,9],[...|    0|[2.47442735011196...|[0.92232952400083...|       0.0|\n",
       "(10,[5,6,7,8,9],[...|    0|[2.47442735011196...|[0.92232952400083...|       0.0|\n",
       "(10,[5,6,7,8,9],[...|    0|[2.47442735011196...|[0.92232952400083...|       0.0|\n",
       "(10,[5,6,7,8,9],[...|    0|[2.47442735011196...|[0.92232952400083...|       0.0|\n",
       "(10,[5,6,7,8,9],[...|    0|[2.47442735011196...|[0.92232952400083...|       0.0|\n",
       "(10,[5,6,7,8,9],[...|    0|[2.47442735011196...|[0.92232952400083...|       0.0|\n",
       "(10,[5,6,7,8,9],[...|    0|[2.47442735011196...|[0.92232952400083...|       0.0|\n",
       "(10,[5,6,7,8,9],[...|    0|[2.47442735011196...|[0.92232952400083...|       0.0|\n",
       "+--------------------+-----+--------------------+--------------------+----------+\n",
       "only showing top 20 rows\n",
       "\n",
       "</div>"
      ]
     },
     "metadata": {
      "application/vnd.databricks.v1+output": {
       "addedWidgets": {},
       "arguments": {},
       "data": "<div class=\"ansiout\">+--------------------+-----+--------------------+--------------------+----------+\n|            features|label|       rawPrediction|         probability|prediction|\n+--------------------+-----+--------------------+--------------------+----------+\n|(10,[5,6,7,8,9],[...|    0|[2.46531080685459...|[0.92167391546930...|       0.0|\n|(10,[5,6,7,8,9],[...|    0|[2.46531080685459...|[0.92167391546930...|       0.0|\n|(10,[5,6,7,8,9],[...|    0|[2.46531080685459...|[0.92167391546930...|       0.0|\n|(10,[5,6,7,8,9],[...|    0|[2.46531080685459...|[0.92167391546930...|       0.0|\n|(10,[5,6,7,8,9],[...|    0|[2.46531080685459...|[0.92167391546930...|       0.0|\n|(10,[5,6,7,8,9],[...|    0|[2.46531080685459...|[0.92167391546930...|       0.0|\n|(10,[5,6,7,8,9],[...|    0|[2.46531080685459...|[0.92167391546930...|       0.0|\n|(10,[5,6,7,8,9],[...|    1|[2.46531080685459...|[0.92167391546930...|       0.0|\n|(10,[5,6,7,8,9],[...|    0|[2.54088237370606...|[0.92695859140224...|       0.0|\n|(10,[5,6,7,8,9],[...|    0|[2.47442735011196...|[0.92232952400083...|       0.0|\n|(10,[5,6,7,8,9],[...|    0|[2.47442735011196...|[0.92232952400083...|       0.0|\n|(10,[5,6,7,8,9],[...|    0|[2.47442735011196...|[0.92232952400083...|       0.0|\n|(10,[5,6,7,8,9],[...|    0|[2.47442735011196...|[0.92232952400083...|       0.0|\n|(10,[5,6,7,8,9],[...|    0|[2.47442735011196...|[0.92232952400083...|       0.0|\n|(10,[5,6,7,8,9],[...|    0|[2.47442735011196...|[0.92232952400083...|       0.0|\n|(10,[5,6,7,8,9],[...|    0|[2.47442735011196...|[0.92232952400083...|       0.0|\n|(10,[5,6,7,8,9],[...|    0|[2.47442735011196...|[0.92232952400083...|       0.0|\n|(10,[5,6,7,8,9],[...|    0|[2.47442735011196...|[0.92232952400083...|       0.0|\n|(10,[5,6,7,8,9],[...|    0|[2.47442735011196...|[0.92232952400083...|       0.0|\n|(10,[5,6,7,8,9],[...|    0|[2.47442735011196...|[0.92232952400083...|       0.0|\n+--------------------+-----+--------------------+--------------------+----------+\nonly showing top 20 rows\n\n</div>",
       "datasetInfos": [],
       "metadata": {},
       "removedWidgets": [],
       "type": "html"
      }
     },
     "output_type": "display_data"
    }
   ],
   "source": [
    "# predict labels for validation dataset\n",
    "validpredicts = lrmodel.transform(valid)\n",
    "validpredicts.show()"
   ]
  },
  {
   "cell_type": "code",
   "execution_count": 0,
   "metadata": {
    "application/vnd.databricks.v1+cell": {
     "inputWidgets": {},
     "nuid": "5607452a-ba57-4581-b981-797f1b9898b6",
     "showTitle": false,
     "title": ""
    }
   },
   "outputs": [
    {
     "data": {
      "text/html": [
       "<style scoped>\n",
       "  .ansiout {\n",
       "    display: block;\n",
       "    unicode-bidi: embed;\n",
       "    white-space: pre-wrap;\n",
       "    word-wrap: break-word;\n",
       "    word-break: break-all;\n",
       "    font-family: \"Source Code Pro\", \"Menlo\", monospace;;\n",
       "    font-size: 13px;\n",
       "    color: #555;\n",
       "    margin-left: 4px;\n",
       "    line-height: 19px;\n",
       "  }\n",
       "</style>\n",
       "<div class=\"ansiout\">[0.014966269318764654,0.03297678633796883,0.004759460690468231,0.03135764889334921,-0.02875935192719302,-0.008347326126066618,-0.006427451587076554,-0.005873951836198092,-0.003901535828056451,-0.008220131417213448]\n",
       "</div>"
      ]
     },
     "metadata": {
      "application/vnd.databricks.v1+output": {
       "addedWidgets": {},
       "arguments": {},
       "data": "<div class=\"ansiout\">[0.014966269318764654,0.03297678633796883,0.004759460690468231,0.03135764889334921,-0.02875935192719302,-0.008347326126066618,-0.006427451587076554,-0.005873951836198092,-0.003901535828056451,-0.008220131417213448]\n</div>",
       "datasetInfos": [],
       "metadata": {},
       "removedWidgets": [],
       "type": "html"
      }
     },
     "output_type": "display_data"
    }
   ],
   "source": [
    "# get coefficients for each feature\n",
    "print(lrmodel.coefficients)"
   ]
  },
  {
   "cell_type": "code",
   "execution_count": 0,
   "metadata": {
    "application/vnd.databricks.v1+cell": {
     "inputWidgets": {},
     "nuid": "f0a2ac57-b40b-42b3-b950-74ff6d8e1be6",
     "showTitle": false,
     "title": ""
    }
   },
   "outputs": [
    {
     "data": {
      "text/html": [
       "<style scoped>\n",
       "  .ansiout {\n",
       "    display: block;\n",
       "    unicode-bidi: embed;\n",
       "    white-space: pre-wrap;\n",
       "    word-wrap: break-word;\n",
       "    word-break: break-all;\n",
       "    font-family: \"Source Code Pro\", \"Menlo\", monospace;;\n",
       "    font-size: 13px;\n",
       "    color: #555;\n",
       "    margin-left: 4px;\n",
       "    line-height: 19px;\n",
       "  }\n",
       "</style>\n",
       "<div class=\"ansiout\"></div>"
      ]
     },
     "metadata": {
      "application/vnd.databricks.v1+output": {
       "addedWidgets": {},
       "arguments": {},
       "data": "<div class=\"ansiout\"></div>",
       "datasetInfos": [],
       "metadata": {},
       "removedWidgets": [],
       "type": "html"
      }
     },
     "output_type": "display_data"
    }
   ],
   "source": [
    "bceval = MulticlassClassificationEvaluator()"
   ]
  },
  {
   "cell_type": "code",
   "execution_count": 0,
   "metadata": {
    "application/vnd.databricks.v1+cell": {
     "inputWidgets": {},
     "nuid": "b730054d-6e73-43b7-a050-15d4b694f399",
     "showTitle": false,
     "title": ""
    }
   },
   "outputs": [
    {
     "data": {
      "text/html": [
       "<style scoped>\n",
       "  .ansiout {\n",
       "    display: block;\n",
       "    unicode-bidi: embed;\n",
       "    white-space: pre-wrap;\n",
       "    word-wrap: break-word;\n",
       "    word-break: break-all;\n",
       "    font-family: \"Source Code Pro\", \"Menlo\", monospace;;\n",
       "    font-size: 13px;\n",
       "    color: #555;\n",
       "    margin-left: 4px;\n",
       "    line-height: 19px;\n",
       "  }\n",
       "</style>\n",
       "<div class=\"ansiout\">accuracy:0.9282694234353019\n",
       "</div>"
      ]
     },
     "metadata": {
      "application/vnd.databricks.v1+output": {
       "addedWidgets": {},
       "arguments": {},
       "data": "<div class=\"ansiout\">accuracy:0.9282694234353019\n</div>",
       "datasetInfos": [],
       "metadata": {},
       "removedWidgets": [],
       "type": "html"
      }
     },
     "output_type": "display_data"
    }
   ],
   "source": [
    "# get the accuracy for the Logistic Regression model\n",
    "bceval.setMetricName(\"accuracy\")\n",
    "print (bceval.getMetricName() +\":\" + str(bceval.evaluate(validpredicts)))"
   ]
  },
  {
   "cell_type": "code",
   "execution_count": 0,
   "metadata": {
    "application/vnd.databricks.v1+cell": {
     "inputWidgets": {},
     "nuid": "966ed5de-d68d-4f57-b2ba-1857046fa7e0",
     "showTitle": false,
     "title": ""
    }
   },
   "outputs": [
    {
     "data": {
      "text/html": [
       "<style scoped>\n",
       "  .ansiout {\n",
       "    display: block;\n",
       "    unicode-bidi: embed;\n",
       "    white-space: pre-wrap;\n",
       "    word-wrap: break-word;\n",
       "    word-break: break-all;\n",
       "    font-family: \"Source Code Pro\", \"Menlo\", monospace;;\n",
       "    font-size: 13px;\n",
       "    color: #555;\n",
       "    margin-left: 4px;\n",
       "    line-height: 19px;\n",
       "  }\n",
       "</style>\n",
       "<div class=\"ansiout\">Out[137]: 0.8937383044219801</div>"
      ]
     },
     "metadata": {
      "application/vnd.databricks.v1+output": {
       "addedWidgets": {},
       "arguments": {},
       "data": "<div class=\"ansiout\">Out[137]: 0.8937383044219801</div>",
       "datasetInfos": [],
       "metadata": {},
       "removedWidgets": [],
       "type": "html"
      }
     },
     "output_type": "display_data"
    }
   ],
   "source": [
    "# get F1 score for the Logistic Regression model\n",
    "bceval.setMetricName(\"f1\") \n",
    "bceval.evaluate(validpredicts)"
   ]
  }
 ],
 "metadata": {
  "application/vnd.databricks.v1+notebook": {
   "dashboards": [],
   "language": "python",
   "notebookMetadata": {
    "pythonIndentUnit": 4
   },
   "notebookName": "Monashree Sanil",
   "notebookOrigID": 3164413804759996,
   "widgets": {}
  },
  "kernelspec": {
   "display_name": "Python 3 (ipykernel)",
   "language": "python",
   "name": "python3"
  },
  "language_info": {
   "codemirror_mode": {
    "name": "ipython",
    "version": 3
   },
   "file_extension": ".py",
   "mimetype": "text/x-python",
   "name": "python",
   "nbconvert_exporter": "python",
   "pygments_lexer": "ipython3",
   "version": "3.8.8"
  }
 },
 "nbformat": 4,
 "nbformat_minor": 1
}
