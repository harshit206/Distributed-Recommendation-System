{
 "cells": [
  {
   "cell_type": "code",
   "execution_count": 0,
   "metadata": {
    "application/vnd.databricks.v1+cell": {
     "inputWidgets": {},
     "nuid": "4194d592-1ba2-4fdc-9013-ee799c390037",
     "showTitle": false,
     "title": ""
    }
   },
   "outputs": [
    {
     "data": {
      "text/html": [
       "<style scoped>\n",
       "  .ansiout {\n",
       "    display: block;\n",
       "    unicode-bidi: embed;\n",
       "    white-space: pre-wrap;\n",
       "    word-wrap: break-word;\n",
       "    word-break: break-all;\n",
       "    font-family: \"Source Code Pro\", \"Menlo\", monospace;;\n",
       "    font-size: 13px;\n",
       "    color: #555;\n",
       "    margin-left: 4px;\n",
       "    line-height: 19px;\n",
       "  }\n",
       "</style>\n",
       "<div class=\"ansiout\"></div>"
      ]
     },
     "metadata": {
      "application/vnd.databricks.v1+output": {
       "addedWidgets": {},
       "arguments": {},
       "data": "<div class=\"ansiout\"></div>",
       "datasetInfos": [],
       "metadata": {},
       "removedWidgets": [],
       "type": "html"
      }
     },
     "output_type": "display_data"
    }
   ],
   "source": [
    "from pyspark.sql import SparkSession\n",
    "from pyspark.sql.types import *\n",
    "from datetime import datetime"
   ]
  },
  {
   "cell_type": "markdown",
   "metadata": {
    "application/vnd.databricks.v1+cell": {
     "inputWidgets": {},
     "nuid": "1526c429-1f61-44e5-ac0e-5f722d08fa26",
     "showTitle": false,
     "title": ""
    }
   },
   "source": [
    "### Cluster Configuration <br>\n",
    "Driver Memory: 30.5GB <br>\n",
    "Worker Memory: 30.5GB <br>\n",
    "Worker cores: 4 <br>\n",
    "Minimum number of workers: 2 <br>\n",
    "Maximum number of workers: 8 <br>"
   ]
  },
  {
   "cell_type": "code",
   "execution_count": 0,
   "metadata": {
    "application/vnd.databricks.v1+cell": {
     "inputWidgets": {},
     "nuid": "959d96c4-7beb-46ab-a6d5-90d4b6a22118",
     "showTitle": false,
     "title": ""
    }
   },
   "outputs": [
    {
     "data": {
      "text/html": [
       "<style scoped>\n",
       "  .ansiout {\n",
       "    display: block;\n",
       "    unicode-bidi: embed;\n",
       "    white-space: pre-wrap;\n",
       "    word-wrap: break-word;\n",
       "    word-break: break-all;\n",
       "    font-family: \"Source Code Pro\", \"Menlo\", monospace;;\n",
       "    font-size: 13px;\n",
       "    color: #555;\n",
       "    margin-left: 4px;\n",
       "    line-height: 19px;\n",
       "  }\n",
       "</style>\n",
       "<div class=\"ansiout\"></div>"
      ]
     },
     "metadata": {
      "application/vnd.databricks.v1+output": {
       "addedWidgets": {},
       "arguments": {},
       "data": "<div class=\"ansiout\"></div>",
       "datasetInfos": [],
       "metadata": {},
       "removedWidgets": [],
       "type": "html"
      }
     },
     "output_type": "display_data"
    }
   ],
   "source": [
    "spark = SparkSession.builder \\\n",
    "            .config(\"spark.jars.packages\", \"org.mongodb.spark:mongo-spark-connector_2.12:3.0.1\")\\\n",
    "            .appName(\"project\") \\\n",
    "            .getOrCreate()"
   ]
  },
  {
   "cell_type": "code",
   "execution_count": 0,
   "metadata": {
    "application/vnd.databricks.v1+cell": {
     "inputWidgets": {},
     "nuid": "09bd8abd-2cc4-488c-8053-ecb98bc2f3a5",
     "showTitle": false,
     "title": ""
    }
   },
   "outputs": [
    {
     "data": {
      "text/html": [
       "<style scoped>\n",
       "  .ansiout {\n",
       "    display: block;\n",
       "    unicode-bidi: embed;\n",
       "    white-space: pre-wrap;\n",
       "    word-wrap: break-word;\n",
       "    word-break: break-all;\n",
       "    font-family: \"Source Code Pro\", \"Menlo\", monospace;;\n",
       "    font-size: 13px;\n",
       "    color: #555;\n",
       "    margin-left: 4px;\n",
       "    line-height: 19px;\n",
       "  }\n",
       "</style>\n",
       "<div class=\"ansiout\"></div>"
      ]
     },
     "metadata": {
      "application/vnd.databricks.v1+output": {
       "addedWidgets": {},
       "arguments": {},
       "data": "<div class=\"ansiout\"></div>",
       "datasetInfos": [],
       "metadata": {},
       "removedWidgets": [],
       "type": "html"
      }
     },
     "output_type": "display_data"
    }
   ],
   "source": [
    "aws_access_key = '***'\n",
    "aws_secret_key = '***'\n",
    "spark._jsc.hadoopConfiguration().set('spark.jars.packages', 'org.apache.hadoop:hadoop-aws:3.3.1')\n",
    "#spark._jsc.hadoopConfiguration().set('spark.jars.packages', 'org.mongodb.spark:mongo-spark-connector_2.12:3.0.1') \n",
    "spark._jsc.hadoopConfiguration().set(\"spark.hadoop.fs.s3a.impl\", \"org.apache.hadoop.fs.s3a.S3AFileSystem\")\n",
    "spark._jsc.hadoopConfiguration().set(\"fs.s3a.access.key\", aws_access_key)\n",
    "spark._jsc.hadoopConfiguration().set(\"fs.s3a.secret.key\", aws_secret_key)"
   ]
  },
  {
   "cell_type": "code",
   "execution_count": 0,
   "metadata": {
    "application/vnd.databricks.v1+cell": {
     "inputWidgets": {},
     "nuid": "b1d5d1d5-d5b1-4543-8eab-5bc58d24f817",
     "showTitle": false,
     "title": ""
    }
   },
   "outputs": [
    {
     "data": {
      "text/html": [
       "<style scoped>\n",
       "  .ansiout {\n",
       "    display: block;\n",
       "    unicode-bidi: embed;\n",
       "    white-space: pre-wrap;\n",
       "    word-wrap: break-word;\n",
       "    word-break: break-all;\n",
       "    font-family: \"Source Code Pro\", \"Menlo\", monospace;;\n",
       "    font-size: 13px;\n",
       "    color: #555;\n",
       "    margin-left: 4px;\n",
       "    line-height: 19px;\n",
       "  }\n",
       "</style>\n",
       "<div class=\"ansiout\"></div>"
      ]
     },
     "metadata": {
      "application/vnd.databricks.v1+output": {
       "addedWidgets": {},
       "arguments": {},
       "data": "<div class=\"ansiout\"></div>",
       "datasetInfos": [],
       "metadata": {},
       "removedWidgets": [],
       "type": "html"
      }
     },
     "output_type": "display_data"
    }
   ],
   "source": [
    "spark._jsc.hadoopConfiguration().set('spark.network.timeout','7200s')\n",
    "spark._jsc.hadoopConfiguration().set('spark.executor.heartbeatInterval','1200s')"
   ]
  },
  {
   "cell_type": "markdown",
   "metadata": {
    "application/vnd.databricks.v1+cell": {
     "inputWidgets": {},
     "nuid": "c6f789bc-06f3-4d7c-b2f6-6ec5af1b29a2",
     "showTitle": false,
     "title": ""
    }
   },
   "source": [
    "#### DataType cast functions"
   ]
  },
  {
   "cell_type": "code",
   "execution_count": 0,
   "metadata": {
    "application/vnd.databricks.v1+cell": {
     "inputWidgets": {},
     "nuid": "8b09e2b2-0d34-4af0-b2a0-c782e97fada5",
     "showTitle": false,
     "title": ""
    }
   },
   "outputs": [
    {
     "data": {
      "text/html": [
       "<style scoped>\n",
       "  .ansiout {\n",
       "    display: block;\n",
       "    unicode-bidi: embed;\n",
       "    white-space: pre-wrap;\n",
       "    word-wrap: break-word;\n",
       "    word-break: break-all;\n",
       "    font-family: \"Source Code Pro\", \"Menlo\", monospace;;\n",
       "    font-size: 13px;\n",
       "    color: #555;\n",
       "    margin-left: 4px;\n",
       "    line-height: 19px;\n",
       "  }\n",
       "</style>\n",
       "<div class=\"ansiout\"></div>"
      ]
     },
     "metadata": {
      "application/vnd.databricks.v1+output": {
       "addedWidgets": {},
       "arguments": {},
       "data": "<div class=\"ansiout\"></div>",
       "datasetInfos": [],
       "metadata": {},
       "removedWidgets": [],
       "type": "html"
      }
     },
     "output_type": "display_data"
    }
   ],
   "source": [
    "def IntegerSafe(value): # In case there are non-integer type to be converted.\n",
    "    try:\n",
    "        return int(value)\n",
    "    except:\n",
    "        return None"
   ]
  },
  {
   "cell_type": "code",
   "execution_count": 0,
   "metadata": {
    "application/vnd.databricks.v1+cell": {
     "inputWidgets": {},
     "nuid": "b3f18781-4125-4eeb-b3f4-ac97388978fd",
     "showTitle": false,
     "title": ""
    }
   },
   "outputs": [
    {
     "data": {
      "text/html": [
       "<style scoped>\n",
       "  .ansiout {\n",
       "    display: block;\n",
       "    unicode-bidi: embed;\n",
       "    white-space: pre-wrap;\n",
       "    word-wrap: break-word;\n",
       "    word-break: break-all;\n",
       "    font-family: \"Source Code Pro\", \"Menlo\", monospace;;\n",
       "    font-size: 13px;\n",
       "    color: #555;\n",
       "    margin-left: 4px;\n",
       "    line-height: 19px;\n",
       "  }\n",
       "</style>\n",
       "<div class=\"ansiout\"></div>"
      ]
     },
     "metadata": {
      "application/vnd.databricks.v1+output": {
       "addedWidgets": {},
       "arguments": {},
       "data": "<div class=\"ansiout\"></div>",
       "datasetInfos": [],
       "metadata": {},
       "removedWidgets": [],
       "type": "html"
      }
     },
     "output_type": "display_data"
    }
   ],
   "source": [
    "def TimeStampSafe(value):\n",
    "    value = value.strip() # Timestamp starting and ending with a double quotation mark.\n",
    "    try:\n",
    "        value = int(value)\n",
    "        return datetime.utcfromtimestamp(value)\n",
    "    except ValueError:\n",
    "        return None\n"
   ]
  },
  {
   "cell_type": "code",
   "execution_count": 0,
   "metadata": {
    "application/vnd.databricks.v1+cell": {
     "inputWidgets": {},
     "nuid": "31debb5b-8e52-4f92-bdd7-1f3ed4352b84",
     "showTitle": false,
     "title": ""
    }
   },
   "outputs": [
    {
     "data": {
      "text/html": [
       "<style scoped>\n",
       "  .ansiout {\n",
       "    display: block;\n",
       "    unicode-bidi: embed;\n",
       "    white-space: pre-wrap;\n",
       "    word-wrap: break-word;\n",
       "    word-break: break-all;\n",
       "    font-family: \"Source Code Pro\", \"Menlo\", monospace;;\n",
       "    font-size: 13px;\n",
       "    color: #555;\n",
       "    margin-left: 4px;\n",
       "    line-height: 19px;\n",
       "  }\n",
       "</style>\n",
       "<div class=\"ansiout\"></div>"
      ]
     },
     "metadata": {
      "application/vnd.databricks.v1+output": {
       "addedWidgets": {},
       "arguments": {},
       "data": "<div class=\"ansiout\"></div>",
       "datasetInfos": [],
       "metadata": {},
       "removedWidgets": [],
       "type": "html"
      }
     },
     "output_type": "display_data"
    }
   ],
   "source": [
    "def YearSafe(value):\n",
    "    value = value.strip() # Timestamp starting and ending with a double quotation mark.\n",
    "    try:\n",
    "        return datetime.strptime(value, \"%Y\")\n",
    "    except ValueError:\n",
    "        return None"
   ]
  },
  {
   "cell_type": "markdown",
   "metadata": {
    "application/vnd.databricks.v1+cell": {
     "inputWidgets": {},
     "nuid": "f0c7a6a8-f40b-4982-902d-5fb2eed689de",
     "showTitle": false,
     "title": ""
    }
   },
   "source": [
    "#### Load recommendation log histroy file"
   ]
  },
  {
   "cell_type": "code",
   "execution_count": 0,
   "metadata": {
    "application/vnd.databricks.v1+cell": {
     "inputWidgets": {},
     "nuid": "79489c02-2df0-4343-95dc-c97e84be3db3",
     "showTitle": false,
     "title": ""
    }
   },
   "outputs": [
    {
     "data": {
      "text/html": [
       "<style scoped>\n",
       "  .ansiout {\n",
       "    display: block;\n",
       "    unicode-bidi: embed;\n",
       "    white-space: pre-wrap;\n",
       "    word-wrap: break-word;\n",
       "    word-break: break-all;\n",
       "    font-family: \"Source Code Pro\", \"Menlo\", monospace;;\n",
       "    font-size: 13px;\n",
       "    color: #555;\n",
       "    margin-left: 4px;\n",
       "    line-height: 19px;\n",
       "  }\n",
       "</style>\n",
       "<div class=\"ansiout\"></div>"
      ]
     },
     "metadata": {
      "application/vnd.databricks.v1+output": {
       "addedWidgets": {},
       "arguments": {},
       "data": "<div class=\"ansiout\"></div>",
       "datasetInfos": [],
       "metadata": {},
       "removedWidgets": [],
       "type": "html"
      }
     },
     "output_type": "display_data"
    }
   ],
   "source": [
    "rec_log_schema = StructType([StructField(\"UserId\", IntegerType(), False),\\\n",
    "    StructField(\"ItemId\", IntegerType(), False),\\\n",
    "    StructField(\"Result\", IntegerType(), False),\n",
    "    StructField(\"Unix-timestamp\", TimestampType(), True)])"
   ]
  },
  {
   "cell_type": "code",
   "execution_count": 0,
   "metadata": {
    "application/vnd.databricks.v1+cell": {
     "inputWidgets": {},
     "nuid": "0841ee86-5c28-4a7c-8690-9011b4246138",
     "showTitle": false,
     "title": ""
    }
   },
   "outputs": [
    {
     "data": {
      "text/html": [
       "<style scoped>\n",
       "  .ansiout {\n",
       "    display: block;\n",
       "    unicode-bidi: embed;\n",
       "    white-space: pre-wrap;\n",
       "    word-wrap: break-word;\n",
       "    word-break: break-all;\n",
       "    font-family: \"Source Code Pro\", \"Menlo\", monospace;;\n",
       "    font-size: 13px;\n",
       "    color: #555;\n",
       "    margin-left: 4px;\n",
       "    line-height: 19px;\n",
       "  }\n",
       "</style>\n",
       "<div class=\"ansiout\">CPU times: user 1.26 ms, sys: 0 ns, total: 1.26 ms\n",
       "Wall time: 303 ms\n",
       "</div>"
      ]
     },
     "metadata": {
      "application/vnd.databricks.v1+output": {
       "addedWidgets": {},
       "arguments": {},
       "data": "<div class=\"ansiout\">CPU times: user 1.26 ms, sys: 0 ns, total: 1.26 ms\nWall time: 303 ms\n</div>",
       "datasetInfos": [],
       "metadata": {},
       "removedWidgets": [],
       "type": "html"
      }
     },
     "output_type": "display_data"
    }
   ],
   "source": [
    "%%time\n",
    "rec_log_rdd = sc.textFile('s3://msds697-group18-2022/track1/rec_log_train.txt')\\\n",
    "                .map(lambda x: x.split('\\t'))\\\n",
    "                .map(lambda x : (IntegerSafe(x[0]), IntegerSafe(x[1]), IntegerSafe(x[2]), TimeStampSafe(x[3])))"
   ]
  },
  {
   "cell_type": "code",
   "execution_count": 0,
   "metadata": {
    "application/vnd.databricks.v1+cell": {
     "inputWidgets": {},
     "nuid": "c9beef55-1d4e-43dc-8e79-dbf76fa5b0a9",
     "showTitle": false,
     "title": ""
    }
   },
   "outputs": [
    {
     "data": {
      "text/html": [
       "<style scoped>\n",
       "  .ansiout {\n",
       "    display: block;\n",
       "    unicode-bidi: embed;\n",
       "    white-space: pre-wrap;\n",
       "    word-wrap: break-word;\n",
       "    word-break: break-all;\n",
       "    font-family: \"Source Code Pro\", \"Menlo\", monospace;;\n",
       "    font-size: 13px;\n",
       "    color: #555;\n",
       "    margin-left: 4px;\n",
       "    line-height: 19px;\n",
       "  }\n",
       "</style>\n",
       "<div class=\"ansiout\">Out[10]: (2088948, 1760350, -1, datetime.datetime(2011, 10, 11, 15, 59, 45))</div>"
      ]
     },
     "metadata": {
      "application/vnd.databricks.v1+output": {
       "addedWidgets": {},
       "arguments": {},
       "data": "<div class=\"ansiout\">Out[10]: (2088948, 1760350, -1, datetime.datetime(2011, 10, 11, 15, 59, 45))</div>",
       "datasetInfos": [],
       "metadata": {},
       "removedWidgets": [],
       "type": "html"
      }
     },
     "output_type": "display_data"
    }
   ],
   "source": [
    "rec_log_rdd.first()"
   ]
  },
  {
   "cell_type": "code",
   "execution_count": 0,
   "metadata": {
    "application/vnd.databricks.v1+cell": {
     "inputWidgets": {},
     "nuid": "a609d089-7562-4714-86ea-b12d828a50a1",
     "showTitle": false,
     "title": ""
    }
   },
   "outputs": [
    {
     "data": {
      "text/html": [
       "<style scoped>\n",
       "  .ansiout {\n",
       "    display: block;\n",
       "    unicode-bidi: embed;\n",
       "    white-space: pre-wrap;\n",
       "    word-wrap: break-word;\n",
       "    word-break: break-all;\n",
       "    font-family: \"Source Code Pro\", \"Menlo\", monospace;;\n",
       "    font-size: 13px;\n",
       "    color: #555;\n",
       "    margin-left: 4px;\n",
       "    line-height: 19px;\n",
       "  }\n",
       "</style>\n",
       "<div class=\"ansiout\">root\n",
       "-- UserId: integer (nullable = false)\n",
       "-- ItemId: integer (nullable = false)\n",
       "-- Result: integer (nullable = false)\n",
       "-- Unix-timestamp: timestamp (nullable = true)\n",
       "\n",
       "CPU times: user 194 ms, sys: 32.3 ms, total: 227 ms\n",
       "Wall time: 359 ms\n",
       "</div>"
      ]
     },
     "metadata": {
      "application/vnd.databricks.v1+output": {
       "addedWidgets": {},
       "arguments": {},
       "data": "<div class=\"ansiout\">root\n |-- UserId: integer (nullable = false)\n |-- ItemId: integer (nullable = false)\n |-- Result: integer (nullable = false)\n |-- Unix-timestamp: timestamp (nullable = true)\n\nCPU times: user 194 ms, sys: 32.3 ms, total: 227 ms\nWall time: 359 ms\n</div>",
       "datasetInfos": [],
       "metadata": {},
       "removedWidgets": [],
       "type": "html"
      }
     },
     "output_type": "display_data"
    }
   ],
   "source": [
    "%%time\n",
    "rec_log_df = spark.createDataFrame(rec_log_rdd, rec_log_schema)\n",
    "rec_log_df.printSchema()"
   ]
  },
  {
   "cell_type": "code",
   "execution_count": 0,
   "metadata": {
    "application/vnd.databricks.v1+cell": {
     "inputWidgets": {},
     "nuid": "95d3e569-30e7-4582-9bb2-25801c6883b8",
     "showTitle": false,
     "title": ""
    }
   },
   "outputs": [
    {
     "data": {
      "text/html": [
       "<style scoped>\n",
       "  .ansiout {\n",
       "    display: block;\n",
       "    unicode-bidi: embed;\n",
       "    white-space: pre-wrap;\n",
       "    word-wrap: break-word;\n",
       "    word-break: break-all;\n",
       "    font-family: \"Source Code Pro\", \"Menlo\", monospace;;\n",
       "    font-size: 13px;\n",
       "    color: #555;\n",
       "    margin-left: 4px;\n",
       "    line-height: 19px;\n",
       "  }\n",
       "</style>\n",
       "<div class=\"ansiout\">+-------+-------+------+-------------------+\n",
       " UserId| ItemId|Result|     Unix-timestamp|\n",
       "+-------+-------+------+-------------------+\n",
       "2088948|1760350|    -1|2011-10-11 15:59:45|\n",
       "2088948|1774722|    -1|2011-10-11 15:59:45|\n",
       "2088948| 786313|    -1|2011-10-11 15:59:45|\n",
       " 601635|1775029|    -1|2011-10-11 15:59:45|\n",
       " 601635|1902321|    -1|2011-10-11 15:59:45|\n",
       " 601635| 462104|    -1|2011-10-11 15:59:45|\n",
       "1529353|1774509|    -1|2011-10-11 15:59:46|\n",
       "1529353|1774717|    -1|2011-10-11 15:59:46|\n",
       "1529353|1775024|    -1|2011-10-11 15:59:46|\n",
       "1853982|1760403|    -1|2011-10-11 15:59:49|\n",
       "1853982|2105482|    -1|2011-10-11 15:59:49|\n",
       "1853982| 725387|    -1|2011-10-11 15:59:49|\n",
       "2202935|1774595|    -1|2011-10-11 15:59:49|\n",
       "2202935|1774796|    -1|2011-10-11 15:59:49|\n",
       "2202935| 458026|    -1|2011-10-11 15:59:49|\n",
       " 451392|1774509|    -1|2011-10-11 15:59:50|\n",
       " 451392|1774713|    -1|2011-10-11 15:59:50|\n",
       " 451392| 647356|    -1|2011-10-11 15:59:50|\n",
       "2270362|1774722|    -1|2011-10-11 15:59:51|\n",
       "2270362| 563514|    -1|2011-10-11 15:59:51|\n",
       "+-------+-------+------+-------------------+\n",
       "only showing top 20 rows\n",
       "\n",
       "CPU times: user 5.89 ms, sys: 0 ns, total: 5.89 ms\n",
       "Wall time: 2.2 s\n",
       "</div>"
      ]
     },
     "metadata": {
      "application/vnd.databricks.v1+output": {
       "addedWidgets": {},
       "arguments": {},
       "data": "<div class=\"ansiout\">+-------+-------+------+-------------------+\n| UserId| ItemId|Result|     Unix-timestamp|\n+-------+-------+------+-------------------+\n|2088948|1760350|    -1|2011-10-11 15:59:45|\n|2088948|1774722|    -1|2011-10-11 15:59:45|\n|2088948| 786313|    -1|2011-10-11 15:59:45|\n| 601635|1775029|    -1|2011-10-11 15:59:45|\n| 601635|1902321|    -1|2011-10-11 15:59:45|\n| 601635| 462104|    -1|2011-10-11 15:59:45|\n|1529353|1774509|    -1|2011-10-11 15:59:46|\n|1529353|1774717|    -1|2011-10-11 15:59:46|\n|1529353|1775024|    -1|2011-10-11 15:59:46|\n|1853982|1760403|    -1|2011-10-11 15:59:49|\n|1853982|2105482|    -1|2011-10-11 15:59:49|\n|1853982| 725387|    -1|2011-10-11 15:59:49|\n|2202935|1774595|    -1|2011-10-11 15:59:49|\n|2202935|1774796|    -1|2011-10-11 15:59:49|\n|2202935| 458026|    -1|2011-10-11 15:59:49|\n| 451392|1774509|    -1|2011-10-11 15:59:50|\n| 451392|1774713|    -1|2011-10-11 15:59:50|\n| 451392| 647356|    -1|2011-10-11 15:59:50|\n|2270362|1774722|    -1|2011-10-11 15:59:51|\n|2270362| 563514|    -1|2011-10-11 15:59:51|\n+-------+-------+------+-------------------+\nonly showing top 20 rows\n\nCPU times: user 5.89 ms, sys: 0 ns, total: 5.89 ms\nWall time: 2.2 s\n</div>",
       "datasetInfos": [],
       "metadata": {},
       "removedWidgets": [],
       "type": "html"
      }
     },
     "output_type": "display_data"
    }
   ],
   "source": [
    "%%time\n",
    "rec_log_df.show()"
   ]
  },
  {
   "cell_type": "markdown",
   "metadata": {
    "application/vnd.databricks.v1+cell": {
     "inputWidgets": {},
     "nuid": "d0549915-bb46-4c84-aefd-80a526e25940",
     "showTitle": false,
     "title": ""
    }
   },
   "source": [
    "#### Load user profile data"
   ]
  },
  {
   "cell_type": "code",
   "execution_count": 0,
   "metadata": {
    "application/vnd.databricks.v1+cell": {
     "inputWidgets": {},
     "nuid": "10325b10-b39c-4e6a-af62-228d72c25433",
     "showTitle": false,
     "title": ""
    }
   },
   "outputs": [
    {
     "data": {
      "text/html": [
       "<style scoped>\n",
       "  .ansiout {\n",
       "    display: block;\n",
       "    unicode-bidi: embed;\n",
       "    white-space: pre-wrap;\n",
       "    word-wrap: break-word;\n",
       "    word-break: break-all;\n",
       "    font-family: \"Source Code Pro\", \"Menlo\", monospace;;\n",
       "    font-size: 13px;\n",
       "    color: #555;\n",
       "    margin-left: 4px;\n",
       "    line-height: 19px;\n",
       "  }\n",
       "</style>\n",
       "<div class=\"ansiout\"></div>"
      ]
     },
     "metadata": {
      "application/vnd.databricks.v1+output": {
       "addedWidgets": {},
       "arguments": {},
       "data": "<div class=\"ansiout\"></div>",
       "datasetInfos": [],
       "metadata": {},
       "removedWidgets": [],
       "type": "html"
      }
     },
     "output_type": "display_data"
    }
   ],
   "source": [
    "user_profile_schema = StructType([StructField(\"UserId\", IntegerType(), False),\\\n",
    "    StructField(\"Year_of_birth\", IntegerType(), True),\\\n",
    "    StructField(\"Gender\", IntegerType(), False),\n",
    "    StructField(\"Number_of_tweets\", IntegerType(), False),\n",
    "    StructField(\"TagIds\", StringType(), True)])"
   ]
  },
  {
   "cell_type": "code",
   "execution_count": 0,
   "metadata": {
    "application/vnd.databricks.v1+cell": {
     "inputWidgets": {},
     "nuid": "022db861-6d9b-496e-b920-15022f3cc1e2",
     "showTitle": false,
     "title": ""
    }
   },
   "outputs": [
    {
     "data": {
      "text/html": [
       "<style scoped>\n",
       "  .ansiout {\n",
       "    display: block;\n",
       "    unicode-bidi: embed;\n",
       "    white-space: pre-wrap;\n",
       "    word-wrap: break-word;\n",
       "    word-break: break-all;\n",
       "    font-family: \"Source Code Pro\", \"Menlo\", monospace;;\n",
       "    font-size: 13px;\n",
       "    color: #555;\n",
       "    margin-left: 4px;\n",
       "    line-height: 19px;\n",
       "  }\n",
       "</style>\n",
       "<div class=\"ansiout\">CPU times: user 912 µs, sys: 115 µs, total: 1.03 ms\n",
       "Wall time: 40.8 ms\n",
       "</div>"
      ]
     },
     "metadata": {
      "application/vnd.databricks.v1+output": {
       "addedWidgets": {},
       "arguments": {},
       "data": "<div class=\"ansiout\">CPU times: user 912 µs, sys: 115 µs, total: 1.03 ms\nWall time: 40.8 ms\n</div>",
       "datasetInfos": [],
       "metadata": {},
       "removedWidgets": [],
       "type": "html"
      }
     },
     "output_type": "display_data"
    }
   ],
   "source": [
    "%%time\n",
    "user_profile_rdd = sc.textFile('s3://msds697-group18-2022/track1/user_profile.txt')\\\n",
    "                .map(lambda x: x.split('\\t'))\\\n",
    "                .map(lambda x : (IntegerSafe(x[0]), IntegerSafe(x[1]), IntegerSafe(x[2]), IntegerSafe(x[3]), x[4]))"
   ]
  },
  {
   "cell_type": "code",
   "execution_count": 0,
   "metadata": {
    "application/vnd.databricks.v1+cell": {
     "inputWidgets": {},
     "nuid": "30421a3e-dba0-425c-8315-002ea660fb75",
     "showTitle": false,
     "title": ""
    }
   },
   "outputs": [
    {
     "data": {
      "text/html": [
       "<style scoped>\n",
       "  .ansiout {\n",
       "    display: block;\n",
       "    unicode-bidi: embed;\n",
       "    white-space: pre-wrap;\n",
       "    word-wrap: break-word;\n",
       "    word-break: break-all;\n",
       "    font-family: \"Source Code Pro\", \"Menlo\", monospace;;\n",
       "    font-size: 13px;\n",
       "    color: #555;\n",
       "    margin-left: 4px;\n",
       "    line-height: 19px;\n",
       "  }\n",
       "</style>\n",
       "<div class=\"ansiout\">CPU times: user 1.75 ms, sys: 3.96 ms, total: 5.72 ms\n",
       "Wall time: 320 ms\n",
       "Out[29]: (100044, 1899, 1, 5, &#39;831;55;198;8;450;7;39;5;111&#39;)</div>"
      ]
     },
     "metadata": {
      "application/vnd.databricks.v1+output": {
       "addedWidgets": {},
       "arguments": {},
       "data": "<div class=\"ansiout\">CPU times: user 1.75 ms, sys: 3.96 ms, total: 5.72 ms\nWall time: 320 ms\nOut[29]: (100044, 1899, 1, 5, &#39;831;55;198;8;450;7;39;5;111&#39;)</div>",
       "datasetInfos": [],
       "metadata": {},
       "removedWidgets": [],
       "type": "html"
      }
     },
     "output_type": "display_data"
    }
   ],
   "source": [
    "%%time\n",
    "user_profile_rdd.first()"
   ]
  },
  {
   "cell_type": "code",
   "execution_count": 0,
   "metadata": {
    "application/vnd.databricks.v1+cell": {
     "inputWidgets": {},
     "nuid": "a436969b-27d2-4e26-bfea-3d4f45d740d4",
     "showTitle": false,
     "title": ""
    }
   },
   "outputs": [
    {
     "data": {
      "text/html": [
       "<style scoped>\n",
       "  .ansiout {\n",
       "    display: block;\n",
       "    unicode-bidi: embed;\n",
       "    white-space: pre-wrap;\n",
       "    word-wrap: break-word;\n",
       "    word-break: break-all;\n",
       "    font-family: \"Source Code Pro\", \"Menlo\", monospace;;\n",
       "    font-size: 13px;\n",
       "    color: #555;\n",
       "    margin-left: 4px;\n",
       "    line-height: 19px;\n",
       "  }\n",
       "</style>\n",
       "<div class=\"ansiout\">root\n",
       "-- UserId: integer (nullable = false)\n",
       "-- Year_of_birth: integer (nullable = true)\n",
       "-- Gender: integer (nullable = false)\n",
       "-- Number_of_tweets: integer (nullable = false)\n",
       "-- TagIds: string (nullable = true)\n",
       "\n",
       "CPU times: user 1.26 ms, sys: 8.71 ms, total: 9.96 ms\n",
       "Wall time: 49.6 ms\n",
       "</div>"
      ]
     },
     "metadata": {
      "application/vnd.databricks.v1+output": {
       "addedWidgets": {},
       "arguments": {},
       "data": "<div class=\"ansiout\">root\n |-- UserId: integer (nullable = false)\n |-- Year_of_birth: integer (nullable = true)\n |-- Gender: integer (nullable = false)\n |-- Number_of_tweets: integer (nullable = false)\n |-- TagIds: string (nullable = true)\n\nCPU times: user 1.26 ms, sys: 8.71 ms, total: 9.96 ms\nWall time: 49.6 ms\n</div>",
       "datasetInfos": [],
       "metadata": {},
       "removedWidgets": [],
       "type": "html"
      }
     },
     "output_type": "display_data"
    }
   ],
   "source": [
    "%%time\n",
    "user_profile_df = spark.createDataFrame(user_profile_rdd, user_profile_schema)\n",
    "user_profile_df.printSchema()"
   ]
  },
  {
   "cell_type": "code",
   "execution_count": 0,
   "metadata": {
    "application/vnd.databricks.v1+cell": {
     "inputWidgets": {},
     "nuid": "1e59c310-161b-4bd5-80e1-90f8e164aa22",
     "showTitle": false,
     "title": ""
    }
   },
   "outputs": [
    {
     "data": {
      "text/html": [
       "<style scoped>\n",
       "  .ansiout {\n",
       "    display: block;\n",
       "    unicode-bidi: embed;\n",
       "    white-space: pre-wrap;\n",
       "    word-wrap: break-word;\n",
       "    word-break: break-all;\n",
       "    font-family: \"Source Code Pro\", \"Menlo\", monospace;;\n",
       "    font-size: 13px;\n",
       "    color: #555;\n",
       "    margin-left: 4px;\n",
       "    line-height: 19px;\n",
       "  }\n",
       "</style>\n",
       "<div class=\"ansiout\">+------+-------------+------+----------------+--------------------+\n",
       "UserId|Year_of_birth|Gender|Number_of_tweets|              TagIds|\n",
       "+------+-------------+------+----------------+--------------------+\n",
       "100044|         1899|     1|               5|831;55;198;8;450;...|\n",
       "100054|         1987|     2|               6|                   0|\n",
       "100065|         1989|     1|              57|                   0|\n",
       "100080|         1986|     1|              31|113;41;44;48;91;9...|\n",
       "100086|         1986|     1|             129|                   0|\n",
       "100097|         1981|     1|              75|                   0|\n",
       "100100|         1984|     1|              47|               71;51|\n",
       "100101|         2003|     1|              31|                   0|\n",
       "100116|         1988|     2|              39|                  35|\n",
       "100117|         2009|     2|              37|                   0|\n",
       "100122|         1891|     1|              17|                   0|\n",
       "100133|         2004|     2|               3|                   0|\n",
       "100136|         1991|     1|             345|                   0|\n",
       "100137|         2011|     1|              44|         417;63;13;2|\n",
       "100144|         1987|     1|              39|                   0|\n",
       "100153|         1990|     1|              31|1;4;100;18;71;64;...|\n",
       "100155|         1986|     1|              32|                   0|\n",
       "100160|         null|     0|               6|                   0|\n",
       "100177|         1983|     1|              70|120;8;48;19;86;49...|\n",
       "100187|         1984|     2|             222|88;109;46;14332;6...|\n",
       "+------+-------------+------+----------------+--------------------+\n",
       "only showing top 20 rows\n",
       "\n",
       "CPU times: user 446 µs, sys: 58 µs, total: 504 µs\n",
       "Wall time: 395 ms\n",
       "</div>"
      ]
     },
     "metadata": {
      "application/vnd.databricks.v1+output": {
       "addedWidgets": {},
       "arguments": {},
       "data": "<div class=\"ansiout\">+------+-------------+------+----------------+--------------------+\n|UserId|Year_of_birth|Gender|Number_of_tweets|              TagIds|\n+------+-------------+------+----------------+--------------------+\n|100044|         1899|     1|               5|831;55;198;8;450;...|\n|100054|         1987|     2|               6|                   0|\n|100065|         1989|     1|              57|                   0|\n|100080|         1986|     1|              31|113;41;44;48;91;9...|\n|100086|         1986|     1|             129|                   0|\n|100097|         1981|     1|              75|                   0|\n|100100|         1984|     1|              47|               71;51|\n|100101|         2003|     1|              31|                   0|\n|100116|         1988|     2|              39|                  35|\n|100117|         2009|     2|              37|                   0|\n|100122|         1891|     1|              17|                   0|\n|100133|         2004|     2|               3|                   0|\n|100136|         1991|     1|             345|                   0|\n|100137|         2011|     1|              44|         417;63;13;2|\n|100144|         1987|     1|              39|                   0|\n|100153|         1990|     1|              31|1;4;100;18;71;64;...|\n|100155|         1986|     1|              32|                   0|\n|100160|         null|     0|               6|                   0|\n|100177|         1983|     1|              70|120;8;48;19;86;49...|\n|100187|         1984|     2|             222|88;109;46;14332;6...|\n+------+-------------+------+----------------+--------------------+\nonly showing top 20 rows\n\nCPU times: user 446 µs, sys: 58 µs, total: 504 µs\nWall time: 395 ms\n</div>",
       "datasetInfos": [],
       "metadata": {},
       "removedWidgets": [],
       "type": "html"
      }
     },
     "output_type": "display_data"
    }
   ],
   "source": [
    "%%time\n",
    "user_profile_df.show()"
   ]
  },
  {
   "cell_type": "markdown",
   "metadata": {
    "application/vnd.databricks.v1+cell": {
     "inputWidgets": {},
     "nuid": "319222f7-ceb4-493b-b4b2-1aafcdf7906c",
     "showTitle": false,
     "title": ""
    }
   },
   "source": [
    "#### Convert String type Tag Ids into a list of Tag Ids"
   ]
  },
  {
   "cell_type": "code",
   "execution_count": 0,
   "metadata": {
    "application/vnd.databricks.v1+cell": {
     "inputWidgets": {},
     "nuid": "7ea4f659-d107-494a-9cd1-8c4da6d9ad9e",
     "showTitle": false,
     "title": ""
    }
   },
   "outputs": [
    {
     "data": {
      "text/html": [
       "<style scoped>\n",
       "  .ansiout {\n",
       "    display: block;\n",
       "    unicode-bidi: embed;\n",
       "    white-space: pre-wrap;\n",
       "    word-wrap: break-word;\n",
       "    word-break: break-all;\n",
       "    font-family: \"Source Code Pro\", \"Menlo\", monospace;;\n",
       "    font-size: 13px;\n",
       "    color: #555;\n",
       "    margin-left: 4px;\n",
       "    line-height: 19px;\n",
       "  }\n",
       "</style>\n",
       "<div class=\"ansiout\"></div>"
      ]
     },
     "metadata": {
      "application/vnd.databricks.v1+output": {
       "addedWidgets": {},
       "arguments": {},
       "data": "<div class=\"ansiout\"></div>",
       "datasetInfos": [],
       "metadata": {},
       "removedWidgets": [],
       "type": "html"
      }
     },
     "output_type": "display_data"
    }
   ],
   "source": [
    "def split_Ids(tagids):\n",
    "    \n",
    "    '''\n",
    "    convert string tagIDs in format \"831;55;198;8;450\" \n",
    "    to Array of integer elements --> [831,55,198,8,450]\n",
    "    '''\n",
    "    \n",
    "    if tagids == '0':\n",
    "        return []\n",
    "    else:\n",
    "        return [ IntegerSafe(x) for x in tagids.split(';') ]   "
   ]
  },
  {
   "cell_type": "code",
   "execution_count": 0,
   "metadata": {
    "application/vnd.databricks.v1+cell": {
     "inputWidgets": {},
     "nuid": "e35519dc-691e-4adb-a052-9cb28e712170",
     "showTitle": false,
     "title": ""
    }
   },
   "outputs": [
    {
     "data": {
      "text/html": [
       "<style scoped>\n",
       "  .ansiout {\n",
       "    display: block;\n",
       "    unicode-bidi: embed;\n",
       "    white-space: pre-wrap;\n",
       "    word-wrap: break-word;\n",
       "    word-break: break-all;\n",
       "    font-family: \"Source Code Pro\", \"Menlo\", monospace;;\n",
       "    font-size: 13px;\n",
       "    color: #555;\n",
       "    margin-left: 4px;\n",
       "    line-height: 19px;\n",
       "  }\n",
       "</style>\n",
       "<div class=\"ansiout\"></div>"
      ]
     },
     "metadata": {
      "application/vnd.databricks.v1+output": {
       "addedWidgets": {},
       "arguments": {},
       "data": "<div class=\"ansiout\"></div>",
       "datasetInfos": [],
       "metadata": {},
       "removedWidgets": [],
       "type": "html"
      }
     },
     "output_type": "display_data"
    }
   ],
   "source": [
    "# Register function for unwrapping of Tagids into Array as UDF\n",
    "clean_ids = udf(split_Ids, ArrayType(IntegerType()))"
   ]
  },
  {
   "cell_type": "code",
   "execution_count": 0,
   "metadata": {
    "application/vnd.databricks.v1+cell": {
     "inputWidgets": {},
     "nuid": "2011c72c-97de-4cfe-846f-4d1879462817",
     "showTitle": false,
     "title": ""
    }
   },
   "outputs": [
    {
     "data": {
      "text/html": [
       "<style scoped>\n",
       "  .ansiout {\n",
       "    display: block;\n",
       "    unicode-bidi: embed;\n",
       "    white-space: pre-wrap;\n",
       "    word-wrap: break-word;\n",
       "    word-break: break-all;\n",
       "    font-family: \"Source Code Pro\", \"Menlo\", monospace;;\n",
       "    font-size: 13px;\n",
       "    color: #555;\n",
       "    margin-left: 4px;\n",
       "    line-height: 19px;\n",
       "  }\n",
       "</style>\n",
       "<div class=\"ansiout\">CPU times: user 4.85 ms, sys: 638 µs, total: 5.49 ms\n",
       "Wall time: 44.6 ms\n",
       "</div>"
      ]
     },
     "metadata": {
      "application/vnd.databricks.v1+output": {
       "addedWidgets": {},
       "arguments": {},
       "data": "<div class=\"ansiout\">CPU times: user 4.85 ms, sys: 638 µs, total: 5.49 ms\nWall time: 44.6 ms\n</div>",
       "datasetInfos": [],
       "metadata": {},
       "removedWidgets": [],
       "type": "html"
      }
     },
     "output_type": "display_data"
    }
   ],
   "source": [
    "%%time\n",
    "user_profile_df = user_profile_df.withColumn('Tag_Ids_list', clean_ids('TagIds'))\\\n",
    "                                 .drop('TagIds')"
   ]
  },
  {
   "cell_type": "code",
   "execution_count": 0,
   "metadata": {
    "application/vnd.databricks.v1+cell": {
     "inputWidgets": {},
     "nuid": "82dae764-df34-43a1-830e-1aaadb5b04b0",
     "showTitle": false,
     "title": ""
    }
   },
   "outputs": [
    {
     "data": {
      "text/html": [
       "<style scoped>\n",
       "  .ansiout {\n",
       "    display: block;\n",
       "    unicode-bidi: embed;\n",
       "    white-space: pre-wrap;\n",
       "    word-wrap: break-word;\n",
       "    word-break: break-all;\n",
       "    font-family: \"Source Code Pro\", \"Menlo\", monospace;;\n",
       "    font-size: 13px;\n",
       "    color: #555;\n",
       "    margin-left: 4px;\n",
       "    line-height: 19px;\n",
       "  }\n",
       "</style>\n",
       "<div class=\"ansiout\">CPU times: user 0 ns, sys: 950 µs, total: 950 µs\n",
       "Wall time: 12.5 ms\n",
       "</div>"
      ]
     },
     "metadata": {
      "application/vnd.databricks.v1+output": {
       "addedWidgets": {},
       "arguments": {},
       "data": "<div class=\"ansiout\">CPU times: user 0 ns, sys: 950 µs, total: 950 µs\nWall time: 12.5 ms\n</div>",
       "datasetInfos": [],
       "metadata": {},
       "removedWidgets": [],
       "type": "html"
      }
     },
     "output_type": "display_data"
    }
   ],
   "source": [
    "%%time\n",
    "user_details = rec_log_df.join(user_profile_df, 'UserId', 'left_outer')"
   ]
  },
  {
   "cell_type": "code",
   "execution_count": 0,
   "metadata": {
    "application/vnd.databricks.v1+cell": {
     "inputWidgets": {},
     "nuid": "b1d6eb4b-120f-4fb9-b200-0255134421ba",
     "showTitle": false,
     "title": ""
    }
   },
   "outputs": [
    {
     "data": {
      "text/html": [
       "<style scoped>\n",
       "  .ansiout {\n",
       "    display: block;\n",
       "    unicode-bidi: embed;\n",
       "    white-space: pre-wrap;\n",
       "    word-wrap: break-word;\n",
       "    word-break: break-all;\n",
       "    font-family: \"Source Code Pro\", \"Menlo\", monospace;;\n",
       "    font-size: 13px;\n",
       "    color: #555;\n",
       "    margin-left: 4px;\n",
       "    line-height: 19px;\n",
       "  }\n",
       "</style>\n",
       "<div class=\"ansiout\">+------+-------+------+-------------------+-------------+------+----------------+--------------------+\n",
       "UserId| ItemId|Result|     Unix-timestamp|Year_of_birth|Gender|Number_of_tweets|        Tag_Ids_list|\n",
       "+------+-------+------+-------------------+-------------+------+----------------+--------------------+\n",
       "114897|1760377|    -1|2011-10-12 15:29:22|         1974|     2|            1892|                  []|\n",
       "114897|1932882|    -1|2011-10-12 15:29:22|         1974|     2|            1892|                  []|\n",
       "114897| 713228|    -1|2011-10-12 15:29:22|         1974|     2|            1892|                  []|\n",
       "244315|1213266|    -1|2011-10-29 12:57:52|         1995|     2|              68|                  []|\n",
       "283440|1606902|    -1|2011-11-05 07:28:22|         1989|     2|              14|[30, 1, 8, 40, 34...|\n",
       "495557|1494039|    -1|2011-11-11 02:18:10|         1990|     2|               2|                  []|\n",
       "495557|1606717|    -1|2011-11-11 02:18:10|         1990|     2|               2|                  []|\n",
       "495557|1774717|    -1|2011-11-11 02:18:10|         1990|     2|               2|                  []|\n",
       "601635|1775029|    -1|2011-10-11 15:59:45|         1996|     2|             701|    [16, 17, 20, 28]|\n",
       "601635|1902321|    -1|2011-10-11 15:59:45|         1996|     2|             701|    [16, 17, 20, 28]|\n",
       "601635| 462104|    -1|2011-10-11 15:59:45|         1996|     2|             701|    [16, 17, 20, 28]|\n",
       "638062|1606902|    -1|2011-10-28 01:02:32|         1986|     2|             480|  [94, 1, 68, 20, 8]|\n",
       "638062| 516024|    -1|2011-10-28 01:02:32|         1986|     2|             480|  [94, 1, 68, 20, 8]|\n",
       "725911|1760401|    -1|2011-10-24 13:09:54|         1899|     2|              54|                  []|\n",
       "725911|1774457|    -1|2011-10-24 13:09:54|         1899|     2|              54|                  []|\n",
       "725911| 731434|    -1|2011-10-24 13:09:54|         1899|     2|              54|                  []|\n",
       "762757|1606515|    -1|2011-11-02 10:23:06|         1977|     1|              62|[28170, 8484, 628...|\n",
       "762757|1606596|    -1|2011-11-02 10:23:06|         1977|     1|              62|[28170, 8484, 628...|\n",
       "762757|1606902|    -1|2011-11-02 10:23:06|         1977|     1|              62|[28170, 8484, 628...|\n",
       "762847|1837210|    -1|2011-10-31 09:35:11|         2009|     1|               0|                  []|\n",
       "+------+-------+------+-------------------+-------------+------+----------------+--------------------+\n",
       "only showing top 20 rows\n",
       "\n",
       "CPU times: user 45.6 ms, sys: 39.8 ms, total: 85.4 ms\n",
       "Wall time: 21.3 s\n",
       "</div>"
      ]
     },
     "metadata": {
      "application/vnd.databricks.v1+output": {
       "addedWidgets": {},
       "arguments": {},
       "data": "<div class=\"ansiout\">+------+-------+------+-------------------+-------------+------+----------------+--------------------+\n|UserId| ItemId|Result|     Unix-timestamp|Year_of_birth|Gender|Number_of_tweets|        Tag_Ids_list|\n+------+-------+------+-------------------+-------------+------+----------------+--------------------+\n|114897|1760377|    -1|2011-10-12 15:29:22|         1974|     2|            1892|                  []|\n|114897|1932882|    -1|2011-10-12 15:29:22|         1974|     2|            1892|                  []|\n|114897| 713228|    -1|2011-10-12 15:29:22|         1974|     2|            1892|                  []|\n|244315|1213266|    -1|2011-10-29 12:57:52|         1995|     2|              68|                  []|\n|283440|1606902|    -1|2011-11-05 07:28:22|         1989|     2|              14|[30, 1, 8, 40, 34...|\n|495557|1494039|    -1|2011-11-11 02:18:10|         1990|     2|               2|                  []|\n|495557|1606717|    -1|2011-11-11 02:18:10|         1990|     2|               2|                  []|\n|495557|1774717|    -1|2011-11-11 02:18:10|         1990|     2|               2|                  []|\n|601635|1775029|    -1|2011-10-11 15:59:45|         1996|     2|             701|    [16, 17, 20, 28]|\n|601635|1902321|    -1|2011-10-11 15:59:45|         1996|     2|             701|    [16, 17, 20, 28]|\n|601635| 462104|    -1|2011-10-11 15:59:45|         1996|     2|             701|    [16, 17, 20, 28]|\n|638062|1606902|    -1|2011-10-28 01:02:32|         1986|     2|             480|  [94, 1, 68, 20, 8]|\n|638062| 516024|    -1|2011-10-28 01:02:32|         1986|     2|             480|  [94, 1, 68, 20, 8]|\n|725911|1760401|    -1|2011-10-24 13:09:54|         1899|     2|              54|                  []|\n|725911|1774457|    -1|2011-10-24 13:09:54|         1899|     2|              54|                  []|\n|725911| 731434|    -1|2011-10-24 13:09:54|         1899|     2|              54|                  []|\n|762757|1606515|    -1|2011-11-02 10:23:06|         1977|     1|              62|[28170, 8484, 628...|\n|762757|1606596|    -1|2011-11-02 10:23:06|         1977|     1|              62|[28170, 8484, 628...|\n|762757|1606902|    -1|2011-11-02 10:23:06|         1977|     1|              62|[28170, 8484, 628...|\n|762847|1837210|    -1|2011-10-31 09:35:11|         2009|     1|               0|                  []|\n+------+-------+------+-------------------+-------------+------+----------------+--------------------+\nonly showing top 20 rows\n\nCPU times: user 45.6 ms, sys: 39.8 ms, total: 85.4 ms\nWall time: 21.3 s\n</div>",
       "datasetInfos": [],
       "metadata": {},
       "removedWidgets": [],
       "type": "html"
      }
     },
     "output_type": "display_data"
    }
   ],
   "source": [
    "%%time\n",
    "user_details.show()"
   ]
  },
  {
   "cell_type": "markdown",
   "metadata": {
    "application/vnd.databricks.v1+cell": {
     "inputWidgets": {},
     "nuid": "c8c9b472-7840-43a5-b9d2-206a12dd91de",
     "showTitle": false,
     "title": ""
    }
   },
   "source": [
    "#### Load item features"
   ]
  },
  {
   "cell_type": "code",
   "execution_count": 0,
   "metadata": {
    "application/vnd.databricks.v1+cell": {
     "inputWidgets": {},
     "nuid": "6c4081db-08c9-41a6-b66d-52c768db9043",
     "showTitle": false,
     "title": ""
    }
   },
   "outputs": [
    {
     "data": {
      "text/html": [
       "<style scoped>\n",
       "  .ansiout {\n",
       "    display: block;\n",
       "    unicode-bidi: embed;\n",
       "    white-space: pre-wrap;\n",
       "    word-wrap: break-word;\n",
       "    word-break: break-all;\n",
       "    font-family: \"Source Code Pro\", \"Menlo\", monospace;;\n",
       "    font-size: 13px;\n",
       "    color: #555;\n",
       "    margin-left: 4px;\n",
       "    line-height: 19px;\n",
       "  }\n",
       "</style>\n",
       "<div class=\"ansiout\"></div>"
      ]
     },
     "metadata": {
      "application/vnd.databricks.v1+output": {
       "addedWidgets": {},
       "arguments": {},
       "data": "<div class=\"ansiout\"></div>",
       "datasetInfos": [],
       "metadata": {},
       "removedWidgets": [],
       "type": "html"
      }
     },
     "output_type": "display_data"
    }
   ],
   "source": [
    "item_schema = StructType([StructField(\"ItemId\", IntegerType(), False),\\\n",
    "    StructField(\"Category\", StringType(), True),\\\n",
    "    StructField(\"Keywords\", StringType(), False)])"
   ]
  },
  {
   "cell_type": "code",
   "execution_count": 0,
   "metadata": {
    "application/vnd.databricks.v1+cell": {
     "inputWidgets": {},
     "nuid": "d48f371d-5561-41b9-9138-1ae2e82bc006",
     "showTitle": false,
     "title": ""
    }
   },
   "outputs": [
    {
     "data": {
      "text/html": [
       "<style scoped>\n",
       "  .ansiout {\n",
       "    display: block;\n",
       "    unicode-bidi: embed;\n",
       "    white-space: pre-wrap;\n",
       "    word-wrap: break-word;\n",
       "    word-break: break-all;\n",
       "    font-family: \"Source Code Pro\", \"Menlo\", monospace;;\n",
       "    font-size: 13px;\n",
       "    color: #555;\n",
       "    margin-left: 4px;\n",
       "    line-height: 19px;\n",
       "  }\n",
       "</style>\n",
       "<div class=\"ansiout\">CPU times: user 913 µs, sys: 130 µs, total: 1.04 ms\n",
       "Wall time: 29.6 ms\n",
       "</div>"
      ]
     },
     "metadata": {
      "application/vnd.databricks.v1+output": {
       "addedWidgets": {},
       "arguments": {},
       "data": "<div class=\"ansiout\">CPU times: user 913 µs, sys: 130 µs, total: 1.04 ms\nWall time: 29.6 ms\n</div>",
       "datasetInfos": [],
       "metadata": {},
       "removedWidgets": [],
       "type": "html"
      }
     },
     "output_type": "display_data"
    }
   ],
   "source": [
    "%%time\n",
    "item_rdd = sc.textFile('s3://msds697-group18-2022/track1/item.txt')\\\n",
    "                .map(lambda x: x.split('\\t'))\\\n",
    "                .map(lambda x : (IntegerSafe(x[0]), x[1], x[2]))"
   ]
  },
  {
   "cell_type": "code",
   "execution_count": 0,
   "metadata": {
    "application/vnd.databricks.v1+cell": {
     "inputWidgets": {},
     "nuid": "04a64dbb-5c1b-4929-ad4d-82304edf42c5",
     "showTitle": false,
     "title": ""
    }
   },
   "outputs": [
    {
     "data": {
      "text/html": [
       "<style scoped>\n",
       "  .ansiout {\n",
       "    display: block;\n",
       "    unicode-bidi: embed;\n",
       "    white-space: pre-wrap;\n",
       "    word-wrap: break-word;\n",
       "    word-break: break-all;\n",
       "    font-family: \"Source Code Pro\", \"Menlo\", monospace;;\n",
       "    font-size: 13px;\n",
       "    color: #555;\n",
       "    margin-left: 4px;\n",
       "    line-height: 19px;\n",
       "  }\n",
       "</style>\n",
       "<div class=\"ansiout\">Out[39]: (2335869,\n",
       " &#39;8.1.4.2&#39;,\n",
       " &#39;412042;974;85658;174033;974;9525;72246;39928;8895;30066;2245;1670;85658;174033;6977;6183;974;85658;174033;974;9525;72246;39928;8895;30066;2245;1670;85658;174033;6977;6183;974&#39;)</div>"
      ]
     },
     "metadata": {
      "application/vnd.databricks.v1+output": {
       "addedWidgets": {},
       "arguments": {},
       "data": "<div class=\"ansiout\">Out[39]: (2335869,\n &#39;8.1.4.2&#39;,\n &#39;412042;974;85658;174033;974;9525;72246;39928;8895;30066;2245;1670;85658;174033;6977;6183;974;85658;174033;974;9525;72246;39928;8895;30066;2245;1670;85658;174033;6977;6183;974&#39;)</div>",
       "datasetInfos": [],
       "metadata": {},
       "removedWidgets": [],
       "type": "html"
      }
     },
     "output_type": "display_data"
    }
   ],
   "source": [
    "item_rdd.first()"
   ]
  },
  {
   "cell_type": "code",
   "execution_count": 0,
   "metadata": {
    "application/vnd.databricks.v1+cell": {
     "inputWidgets": {},
     "nuid": "4fd40322-90f9-430a-bc49-13b298f3dcf6",
     "showTitle": false,
     "title": ""
    }
   },
   "outputs": [
    {
     "data": {
      "text/html": [
       "<style scoped>\n",
       "  .ansiout {\n",
       "    display: block;\n",
       "    unicode-bidi: embed;\n",
       "    white-space: pre-wrap;\n",
       "    word-wrap: break-word;\n",
       "    word-break: break-all;\n",
       "    font-family: \"Source Code Pro\", \"Menlo\", monospace;;\n",
       "    font-size: 13px;\n",
       "    color: #555;\n",
       "    margin-left: 4px;\n",
       "    line-height: 19px;\n",
       "  }\n",
       "</style>\n",
       "<div class=\"ansiout\">root\n",
       "-- ItemId: integer (nullable = false)\n",
       "-- Category: string (nullable = true)\n",
       "-- Keywords: string (nullable = false)\n",
       "\n",
       "CPU times: user 1.94 ms, sys: 3.97 ms, total: 5.91 ms\n",
       "Wall time: 42.1 ms\n",
       "</div>"
      ]
     },
     "metadata": {
      "application/vnd.databricks.v1+output": {
       "addedWidgets": {},
       "arguments": {},
       "data": "<div class=\"ansiout\">root\n |-- ItemId: integer (nullable = false)\n |-- Category: string (nullable = true)\n |-- Keywords: string (nullable = false)\n\nCPU times: user 1.94 ms, sys: 3.97 ms, total: 5.91 ms\nWall time: 42.1 ms\n</div>",
       "datasetInfos": [],
       "metadata": {},
       "removedWidgets": [],
       "type": "html"
      }
     },
     "output_type": "display_data"
    }
   ],
   "source": [
    "%%time\n",
    "item_df = spark.createDataFrame(item_rdd, item_schema)\n",
    "item_df.printSchema()"
   ]
  },
  {
   "cell_type": "code",
   "execution_count": 0,
   "metadata": {
    "application/vnd.databricks.v1+cell": {
     "inputWidgets": {},
     "nuid": "2e8e06be-426b-493d-a0d6-02a559bf3a32",
     "showTitle": false,
     "title": ""
    }
   },
   "outputs": [
    {
     "data": {
      "text/html": [
       "<style scoped>\n",
       "  .ansiout {\n",
       "    display: block;\n",
       "    unicode-bidi: embed;\n",
       "    white-space: pre-wrap;\n",
       "    word-wrap: break-word;\n",
       "    word-break: break-all;\n",
       "    font-family: \"Source Code Pro\", \"Menlo\", monospace;;\n",
       "    font-size: 13px;\n",
       "    color: #555;\n",
       "    margin-left: 4px;\n",
       "    line-height: 19px;\n",
       "  }\n",
       "</style>\n",
       "<div class=\"ansiout\">+-------+--------+--------------------+\n",
       " ItemId|Category|            Keywords|\n",
       "+-------+--------+--------------------+\n",
       "2335869| 8.1.4.2|412042;974;85658;...|\n",
       "1774844| 1.8.3.6|31449;517124;4500...|\n",
       "1775000| 1.4.2.4|259580;626835;121...|\n",
       "1775024| 1.4.1.4|498354;61029;6077...|\n",
       "1774455| 1.4.1.2|155009;345081;122...|\n",
       "1775040| 1.4.2.2|100947;97714;1220...|\n",
       "1774505| 1.4.9.2|254337;195099;974...|\n",
       "1774776| 8.1.4.2|239661;974;46479;...|\n",
       " 495072| 8.1.4.2|296259;596521;486...|\n",
       "2076876| 1.4.9.2|239661;974;428257...|\n",
       " 163267| 8.1.4.2|239661;588100;571...|\n",
       " 218438| 1.4.9.2|974;97714;239661;...|\n",
       "1775005| 1.4.1.1|228377;573290;122...|\n",
       "1932882| 1.4.1.2|209854;555490;122...|\n",
       " 303060| 1.4.2.2|606496;81309;1220...|\n",
       "1774456| 1.4.2.1|3203;19818;12203;...|\n",
       " 709795| 1.9.2.5|541405;677101;122...|\n",
       "1775038| 1.4.1.2|155009;7931;12203...|\n",
       "1774457| 1.4.1.2|712604;209854;122...|\n",
       " 504783| 1.4.1.1|589692;12203;1231...|\n",
       "+-------+--------+--------------------+\n",
       "only showing top 20 rows\n",
       "\n",
       "CPU times: user 4.59 ms, sys: 665 µs, total: 5.26 ms\n",
       "Wall time: 279 ms\n",
       "</div>"
      ]
     },
     "metadata": {
      "application/vnd.databricks.v1+output": {
       "addedWidgets": {},
       "arguments": {},
       "data": "<div class=\"ansiout\">+-------+--------+--------------------+\n| ItemId|Category|            Keywords|\n+-------+--------+--------------------+\n|2335869| 8.1.4.2|412042;974;85658;...|\n|1774844| 1.8.3.6|31449;517124;4500...|\n|1775000| 1.4.2.4|259580;626835;121...|\n|1775024| 1.4.1.4|498354;61029;6077...|\n|1774455| 1.4.1.2|155009;345081;122...|\n|1775040| 1.4.2.2|100947;97714;1220...|\n|1774505| 1.4.9.2|254337;195099;974...|\n|1774776| 8.1.4.2|239661;974;46479;...|\n| 495072| 8.1.4.2|296259;596521;486...|\n|2076876| 1.4.9.2|239661;974;428257...|\n| 163267| 8.1.4.2|239661;588100;571...|\n| 218438| 1.4.9.2|974;97714;239661;...|\n|1775005| 1.4.1.1|228377;573290;122...|\n|1932882| 1.4.1.2|209854;555490;122...|\n| 303060| 1.4.2.2|606496;81309;1220...|\n|1774456| 1.4.2.1|3203;19818;12203;...|\n| 709795| 1.9.2.5|541405;677101;122...|\n|1775038| 1.4.1.2|155009;7931;12203...|\n|1774457| 1.4.1.2|712604;209854;122...|\n| 504783| 1.4.1.1|589692;12203;1231...|\n+-------+--------+--------------------+\nonly showing top 20 rows\n\nCPU times: user 4.59 ms, sys: 665 µs, total: 5.26 ms\nWall time: 279 ms\n</div>",
       "datasetInfos": [],
       "metadata": {},
       "removedWidgets": [],
       "type": "html"
      }
     },
     "output_type": "display_data"
    }
   ],
   "source": [
    "%%time\n",
    "item_df.show()"
   ]
  },
  {
   "cell_type": "markdown",
   "metadata": {
    "application/vnd.databricks.v1+cell": {
     "inputWidgets": {},
     "nuid": "bf706cac-d1d6-4dfb-b2f6-841ad2782b02",
     "showTitle": false,
     "title": ""
    }
   },
   "source": [
    "#### Convert String type Keywords into a list of keywords"
   ]
  },
  {
   "cell_type": "code",
   "execution_count": 0,
   "metadata": {
    "application/vnd.databricks.v1+cell": {
     "inputWidgets": {},
     "nuid": "3506ab2a-e2fb-4020-96a7-84116267f0fe",
     "showTitle": false,
     "title": ""
    }
   },
   "outputs": [
    {
     "data": {
      "text/html": [
       "<style scoped>\n",
       "  .ansiout {\n",
       "    display: block;\n",
       "    unicode-bidi: embed;\n",
       "    white-space: pre-wrap;\n",
       "    word-wrap: break-word;\n",
       "    word-break: break-all;\n",
       "    font-family: \"Source Code Pro\", \"Menlo\", monospace;;\n",
       "    font-size: 13px;\n",
       "    color: #555;\n",
       "    margin-left: 4px;\n",
       "    line-height: 19px;\n",
       "  }\n",
       "</style>\n",
       "<div class=\"ansiout\">CPU times: user 1.27 ms, sys: 185 µs, total: 1.45 ms\n",
       "Wall time: 20.1 ms\n",
       "</div>"
      ]
     },
     "metadata": {
      "application/vnd.databricks.v1+output": {
       "addedWidgets": {},
       "arguments": {},
       "data": "<div class=\"ansiout\">CPU times: user 1.27 ms, sys: 185 µs, total: 1.45 ms\nWall time: 20.1 ms\n</div>",
       "datasetInfos": [],
       "metadata": {},
       "removedWidgets": [],
       "type": "html"
      }
     },
     "output_type": "display_data"
    }
   ],
   "source": [
    "%%time\n",
    "item_df = item_df.withColumn('Keywords_list', clean_ids('Keywords'))\\\n",
    "                                 .drop('Keywords')"
   ]
  },
  {
   "cell_type": "code",
   "execution_count": 0,
   "metadata": {
    "application/vnd.databricks.v1+cell": {
     "inputWidgets": {},
     "nuid": "bc28aee1-4cb6-4f03-b7b9-f84aa6a405c3",
     "showTitle": false,
     "title": ""
    }
   },
   "outputs": [
    {
     "data": {
      "text/html": [
       "<style scoped>\n",
       "  .ansiout {\n",
       "    display: block;\n",
       "    unicode-bidi: embed;\n",
       "    white-space: pre-wrap;\n",
       "    word-wrap: break-word;\n",
       "    word-break: break-all;\n",
       "    font-family: \"Source Code Pro\", \"Menlo\", monospace;;\n",
       "    font-size: 13px;\n",
       "    color: #555;\n",
       "    margin-left: 4px;\n",
       "    line-height: 19px;\n",
       "  }\n",
       "</style>\n",
       "<div class=\"ansiout\">CPU times: user 733 µs, sys: 107 µs, total: 840 µs\n",
       "Wall time: 15.2 ms\n",
       "</div>"
      ]
     },
     "metadata": {
      "application/vnd.databricks.v1+output": {
       "addedWidgets": {},
       "arguments": {},
       "data": "<div class=\"ansiout\">CPU times: user 733 µs, sys: 107 µs, total: 840 µs\nWall time: 15.2 ms\n</div>",
       "datasetInfos": [],
       "metadata": {},
       "removedWidgets": [],
       "type": "html"
      }
     },
     "output_type": "display_data"
    }
   ],
   "source": [
    "%%time\n",
    "log_details = user_details.join(item_df, 'ItemId', 'left_outer')"
   ]
  },
  {
   "cell_type": "code",
   "execution_count": 0,
   "metadata": {
    "application/vnd.databricks.v1+cell": {
     "inputWidgets": {},
     "nuid": "4cd45219-34cd-4d80-97d5-dbf2dbc734a4",
     "showTitle": false,
     "title": ""
    }
   },
   "outputs": [
    {
     "data": {
      "text/html": [
       "<style scoped>\n",
       "  .ansiout {\n",
       "    display: block;\n",
       "    unicode-bidi: embed;\n",
       "    white-space: pre-wrap;\n",
       "    word-wrap: break-word;\n",
       "    word-break: break-all;\n",
       "    font-family: \"Source Code Pro\", \"Menlo\", monospace;;\n",
       "    font-size: 13px;\n",
       "    color: #555;\n",
       "    margin-left: 4px;\n",
       "    line-height: 19px;\n",
       "  }\n",
       "</style>\n",
       "<div class=\"ansiout\">+-------+------+------+-------------------+-------------+------+----------------+--------------------+--------+--------------------+\n",
       " ItemId|UserId|Result|     Unix-timestamp|Year_of_birth|Gender|Number_of_tweets|        Tag_Ids_list|Category|       Keywords_list|\n",
       "+-------+------+------+-------------------+-------------+------+----------------+--------------------+--------+--------------------+\n",
       "1760377|114897|    -1|2011-10-12 15:29:22|         1974|     2|            1892|                  []| 1.4.1.5|[20819, 396947, 7...|\n",
       "1932882|114897|    -1|2011-10-12 15:29:22|         1974|     2|            1892|                  []| 1.4.1.2|[209854, 555490, ...|\n",
       " 713228|114897|    -1|2011-10-12 15:29:22|         1974|     2|            1892|                  []|1.4.1.13|[650, 517117, 517...|\n",
       "1213266|244315|    -1|2011-10-29 12:57:52|         1995|     2|              68|                  []| 1.1.1.2|[60705, 449826, 2...|\n",
       "1606902|283440|    -1|2011-11-05 07:28:22|         1989|     2|              14|[30, 1, 8, 40, 34...| 1.1.2.1|[619870, 242039, ...|\n",
       "1494039|495557|    -1|2011-11-11 02:18:10|         1990|     2|               2|                  []| 1.1.2.2|[38813, 674057, 3...|\n",
       "1606717|495557|    -1|2011-11-11 02:18:10|         1990|     2|               2|                  []| 8.2.5.2|[6359, 12641, 232...|\n",
       "1774717|495557|    -1|2011-11-11 02:18:10|         1990|     2|               2|                  []| 1.4.9.2|[1202, 974, 25433...|\n",
       "1775029|601635|    -1|2011-10-11 15:59:45|         1996|     2|             701|    [16, 17, 20, 28]| 1.4.9.2|[575248, 629557, ...|\n",
       "1902321|601635|    -1|2011-10-11 15:59:45|         1996|     2|             701|    [16, 17, 20, 28]|1.11.2.4|[24357, 118825, 2...|\n",
       " 462104|601635|    -1|2011-10-11 15:59:45|         1996|     2|             701|    [16, 17, 20, 28]| 1.5.3.7|[30630, 15471, 90...|\n",
       "1606902|638062|    -1|2011-10-28 01:02:32|         1986|     2|             480|  [94, 1, 68, 20, 8]| 1.1.2.1|[619870, 242039, ...|\n",
       " 516024|638062|    -1|2011-10-28 01:02:32|         1986|     2|             480|  [94, 1, 68, 20, 8]| 1.9.2.1|[528997, 18059, 7...|\n",
       "1760401|725911|    -1|2011-10-24 13:09:54|         1899|     2|              54|                  []| 1.4.1.5|[37009, 582807, 5...|\n",
       "1774457|725911|    -1|2011-10-24 13:09:54|         1899|     2|              54|                  []| 1.4.1.2|[712604, 209854, ...|\n",
       " 731434|725911|    -1|2011-10-24 13:09:54|         1899|     2|              54|                  []| 1.4.9.2|[632914, 974, 618...|\n",
       "1606515|762757|    -1|2011-11-02 10:23:06|         1977|     1|              62|[28170, 8484, 628...| 8.1.1.2|[6359, 368, 17713...|\n",
       "1606596|762757|    -1|2011-11-02 10:23:06|         1977|     1|              62|[28170, 8484, 628...| 1.4.2.4|[6359, 12152, 618...|\n",
       "1606902|762757|    -1|2011-11-02 10:23:06|         1977|     1|              62|[28170, 8484, 628...| 1.1.2.1|[619870, 242039, ...|\n",
       "1837210|762847|    -1|2011-10-31 09:35:11|         2009|     1|               0|                  []| 1.4.2.4|[97714, 174, 4877...|\n",
       "+-------+------+------+-------------------+-------------+------+----------------+--------------------+--------+--------------------+\n",
       "only showing top 20 rows\n",
       "\n",
       "CPU times: user 40.6 ms, sys: 23.4 ms, total: 63.9 ms\n",
       "Wall time: 16 s\n",
       "</div>"
      ]
     },
     "metadata": {
      "application/vnd.databricks.v1+output": {
       "addedWidgets": {},
       "arguments": {},
       "data": "<div class=\"ansiout\">+-------+------+------+-------------------+-------------+------+----------------+--------------------+--------+--------------------+\n| ItemId|UserId|Result|     Unix-timestamp|Year_of_birth|Gender|Number_of_tweets|        Tag_Ids_list|Category|       Keywords_list|\n+-------+------+------+-------------------+-------------+------+----------------+--------------------+--------+--------------------+\n|1760377|114897|    -1|2011-10-12 15:29:22|         1974|     2|            1892|                  []| 1.4.1.5|[20819, 396947, 7...|\n|1932882|114897|    -1|2011-10-12 15:29:22|         1974|     2|            1892|                  []| 1.4.1.2|[209854, 555490, ...|\n| 713228|114897|    -1|2011-10-12 15:29:22|         1974|     2|            1892|                  []|1.4.1.13|[650, 517117, 517...|\n|1213266|244315|    -1|2011-10-29 12:57:52|         1995|     2|              68|                  []| 1.1.1.2|[60705, 449826, 2...|\n|1606902|283440|    -1|2011-11-05 07:28:22|         1989|     2|              14|[30, 1, 8, 40, 34...| 1.1.2.1|[619870, 242039, ...|\n|1494039|495557|    -1|2011-11-11 02:18:10|         1990|     2|               2|                  []| 1.1.2.2|[38813, 674057, 3...|\n|1606717|495557|    -1|2011-11-11 02:18:10|         1990|     2|               2|                  []| 8.2.5.2|[6359, 12641, 232...|\n|1774717|495557|    -1|2011-11-11 02:18:10|         1990|     2|               2|                  []| 1.4.9.2|[1202, 974, 25433...|\n|1775029|601635|    -1|2011-10-11 15:59:45|         1996|     2|             701|    [16, 17, 20, 28]| 1.4.9.2|[575248, 629557, ...|\n|1902321|601635|    -1|2011-10-11 15:59:45|         1996|     2|             701|    [16, 17, 20, 28]|1.11.2.4|[24357, 118825, 2...|\n| 462104|601635|    -1|2011-10-11 15:59:45|         1996|     2|             701|    [16, 17, 20, 28]| 1.5.3.7|[30630, 15471, 90...|\n|1606902|638062|    -1|2011-10-28 01:02:32|         1986|     2|             480|  [94, 1, 68, 20, 8]| 1.1.2.1|[619870, 242039, ...|\n| 516024|638062|    -1|2011-10-28 01:02:32|         1986|     2|             480|  [94, 1, 68, 20, 8]| 1.9.2.1|[528997, 18059, 7...|\n|1760401|725911|    -1|2011-10-24 13:09:54|         1899|     2|              54|                  []| 1.4.1.5|[37009, 582807, 5...|\n|1774457|725911|    -1|2011-10-24 13:09:54|         1899|     2|              54|                  []| 1.4.1.2|[712604, 209854, ...|\n| 731434|725911|    -1|2011-10-24 13:09:54|         1899|     2|              54|                  []| 1.4.9.2|[632914, 974, 618...|\n|1606515|762757|    -1|2011-11-02 10:23:06|         1977|     1|              62|[28170, 8484, 628...| 8.1.1.2|[6359, 368, 17713...|\n|1606596|762757|    -1|2011-11-02 10:23:06|         1977|     1|              62|[28170, 8484, 628...| 1.4.2.4|[6359, 12152, 618...|\n|1606902|762757|    -1|2011-11-02 10:23:06|         1977|     1|              62|[28170, 8484, 628...| 1.1.2.1|[619870, 242039, ...|\n|1837210|762847|    -1|2011-10-31 09:35:11|         2009|     1|               0|                  []| 1.4.2.4|[97714, 174, 4877...|\n+-------+------+------+-------------------+-------------+------+----------------+--------------------+--------+--------------------+\nonly showing top 20 rows\n\nCPU times: user 40.6 ms, sys: 23.4 ms, total: 63.9 ms\nWall time: 16 s\n</div>",
       "datasetInfos": [],
       "metadata": {},
       "removedWidgets": [],
       "type": "html"
      }
     },
     "output_type": "display_data"
    }
   ],
   "source": [
    "%%time\n",
    "log_details.show()"
   ]
  },
  {
   "cell_type": "markdown",
   "metadata": {
    "application/vnd.databricks.v1+cell": {
     "inputWidgets": {},
     "nuid": "fb79c642-f561-4cd9-bf32-ceb0cce4fab1",
     "showTitle": false,
     "title": ""
    }
   },
   "source": [
    "#### Write the dataframe into Mongo DB"
   ]
  },
  {
   "cell_type": "code",
   "execution_count": 0,
   "metadata": {
    "application/vnd.databricks.v1+cell": {
     "inputWidgets": {},
     "nuid": "1580d5ce-06cc-470d-ace8-a4690a26eacd",
     "showTitle": false,
     "title": ""
    }
   },
   "outputs": [
    {
     "data": {
      "text/html": [
       "<style scoped>\n",
       "  .ansiout {\n",
       "    display: block;\n",
       "    unicode-bidi: embed;\n",
       "    white-space: pre-wrap;\n",
       "    word-wrap: break-word;\n",
       "    word-break: break-all;\n",
       "    font-family: \"Source Code Pro\", \"Menlo\", monospace;;\n",
       "    font-size: 13px;\n",
       "    color: #555;\n",
       "    margin-left: 4px;\n",
       "    line-height: 19px;\n",
       "  }\n",
       "</style>\n",
       "<div class=\"ansiout\"></div>"
      ]
     },
     "metadata": {
      "application/vnd.databricks.v1+output": {
       "addedWidgets": {},
       "arguments": {},
       "data": "<div class=\"ansiout\"></div>",
       "datasetInfos": [],
       "metadata": {},
       "removedWidgets": [],
       "type": "html"
      }
     },
     "output_type": "display_data"
    }
   ],
   "source": [
    "database = 'tencent'\n",
    "collection = 'recologdetail'\n",
    "user_name = '***'\n",
    "password = '***'\n",
    "address = '**'\n",
    "connection_string = f\"mongodb+srv://{user_name}:{password}@{address}/{database}.{collection}\""
   ]
  },
  {
   "cell_type": "code",
   "execution_count": 0,
   "metadata": {
    "application/vnd.databricks.v1+cell": {
     "inputWidgets": {},
     "nuid": "78fcabcf-d169-4d27-b4d6-5e24406f039f",
     "showTitle": false,
     "title": ""
    }
   },
   "outputs": [
    {
     "data": {
      "text/html": [
       "<style scoped>\n",
       "  .ansiout {\n",
       "    display: block;\n",
       "    unicode-bidi: embed;\n",
       "    white-space: pre-wrap;\n",
       "    word-wrap: break-word;\n",
       "    word-break: break-all;\n",
       "    font-family: \"Source Code Pro\", \"Menlo\", monospace;;\n",
       "    font-size: 13px;\n",
       "    color: #555;\n",
       "    margin-left: 4px;\n",
       "    line-height: 19px;\n",
       "  }\n",
       "</style>\n",
       "<div class=\"ansiout\">CPU times: user 5.24 s, sys: 2.55 s, total: 7.79 s\n",
       "Wall time: 33min 22s\n",
       "</div>"
      ]
     },
     "metadata": {
      "application/vnd.databricks.v1+output": {
       "addedWidgets": {},
       "arguments": {},
       "data": "<div class=\"ansiout\">CPU times: user 5.24 s, sys: 2.55 s, total: 7.79 s\nWall time: 33min 22s\n</div>",
       "datasetInfos": [],
       "metadata": {},
       "removedWidgets": [],
       "type": "html"
      }
     },
     "output_type": "display_data"
    }
   ],
   "source": [
    "%%time\n",
    "log_details.write.format(\"mongo\").option(\"uri\",connection_string).mode(\"overwrite\").save()"
   ]
  },
  {
   "cell_type": "code",
   "execution_count": 0,
   "metadata": {
    "application/vnd.databricks.v1+cell": {
     "inputWidgets": {},
     "nuid": "f7177c34-31f5-47d5-8a4d-d8098a09d6f7",
     "showTitle": false,
     "title": ""
    }
   },
   "outputs": [
    {
     "data": {
      "text/html": [
       "<style scoped>\n",
       "  .ansiout {\n",
       "    display: block;\n",
       "    unicode-bidi: embed;\n",
       "    white-space: pre-wrap;\n",
       "    word-wrap: break-word;\n",
       "    word-break: break-all;\n",
       "    font-family: \"Source Code Pro\", \"Menlo\", monospace;;\n",
       "    font-size: 13px;\n",
       "    color: #555;\n",
       "    margin-left: 4px;\n",
       "    line-height: 19px;\n",
       "  }\n",
       "</style>"
      ]
     },
     "metadata": {
      "application/vnd.databricks.v1+output": {
       "arguments": {},
       "data": "",
       "errorSummary": "The spark context has stopped and the driver is restarting. Your notebook will be automatically reattached.",
       "errorTraceType": "html",
       "metadata": {},
       "type": "ipynbError"
      }
     },
     "output_type": "display_data"
    }
   ],
   "source": [
    "spark.stop()"
   ]
  }
 ],
 "metadata": {
  "application/vnd.databricks.v1+notebook": {
   "dashboards": [],
   "language": "python",
   "notebookMetadata": {
    "pythonIndentUnit": 4
   },
   "notebookName": "msds697_project",
   "notebookOrigID": 3135410887629933,
   "widgets": {}
  },
  "kernelspec": {
   "display_name": "Python 3 (ipykernel)",
   "language": "python",
   "name": "python3"
  },
  "language_info": {
   "codemirror_mode": {
    "name": "ipython",
    "version": 3
   },
   "file_extension": ".py",
   "mimetype": "text/x-python",
   "name": "python",
   "nbconvert_exporter": "python",
   "pygments_lexer": "ipython3",
   "version": "3.8.8"
  }
 },
 "nbformat": 4,
 "nbformat_minor": 1
}
